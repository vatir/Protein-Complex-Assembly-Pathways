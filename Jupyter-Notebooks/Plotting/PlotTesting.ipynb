{
 "cells": [
  {
   "cell_type": "code",
   "execution_count": 1,
   "metadata": {},
   "outputs": [],
   "source": [
    "import numpy as np\n",
    "import MPLGUI as MP\n",
    "from matplotlib.offsetbox import AnnotationBbox, OffsetImage"
   ]
  },
  {
   "cell_type": "code",
   "execution_count": 2,
   "metadata": {},
   "outputs": [
    {
     "name": "stdout",
     "output_type": "stream",
     "text": [
      "Available matplotlib backends: ['osx', 'qt4', 'qt5', 'gtk3', 'notebook', 'wx', 'qt', 'nbagg', 'gtk', 'tk', 'inline']\n"
     ]
    }
   ],
   "source": [
    "%matplotlib --list\n",
    "%matplotlib inline"
   ]
  },
  {
   "cell_type": "code",
   "execution_count": 3,
   "metadata": {},
   "outputs": [],
   "source": [
    "# Import One to One Binding Models\n",
    "from Helpers.OneToOne import *"
   ]
  },
  {
   "cell_type": "code",
   "execution_count": 4,
   "metadata": {},
   "outputs": [
    {
     "data": {
      "text/plain": [
       "array([  3.81966011e-07,   3.69990067e-06,   2.64771786e-05,\n",
       "         1.64983356e-04,   9.68873271e-04])"
      ]
     },
     "execution_count": 4,
     "metadata": {},
     "output_type": "execute_result"
    }
   ],
   "source": [
    "Kd = 10**-6\n",
    "A0 = np.logspace(-6,-3,5)\n",
    "SS_AB(10**-6, A0, A0)"
   ]
  },
  {
   "cell_type": "raw",
   "metadata": {},
   "source": [
    "Species order for FracStacked is: (Note image order is not the same as this)\n",
    "0  : 32;;1,0,0;0,0,0\n",
    "1  : 36;;1,0,0;1,0,0\n",
    "2  : 48;;1,1,0;0,0,0\n",
    "3  : 50;;1,1,0;0,1,0\n",
    "4  : 51;;1,1,0;0,1,1\n",
    "5  : 52;;1,1,0;1,0,0\n",
    "6  : 53;;1,1,0;1,0,1\n",
    "7  : 54;;1,1,0;1,1,0\n",
    "8  : 56;;1,1,1;0,0,0\n",
    "9  : 60;;1,1,1;1,0,0\n",
    "10 : 62;;1,1,1;1,1,0\n",
    "11 : 63;;1,1,1;1,1,1"
   ]
  },
  {
   "cell_type": "code",
   "execution_count": 5,
   "metadata": {},
   "outputs": [],
   "source": [
    "ImgFileName = \"FracVsConc.pdf\"\n",
    "\n",
    "ConcPoints  = np.load(\"{}/{}\".format(MP.DefaultDataDir, \"FracVsConc - ConcPoints.npy\"))\n",
    "FracRing    = np.load(\"{}/{}\".format(MP.DefaultDataDir, \"FracVsConc - Frac - Ring.npy\"))\n",
    "FracStacked = np.load(\"{}/{}\".format(MP.DefaultDataDir, \"FracVsConc - Frac - Stacked.npy\"))"
   ]
  },
  {
   "cell_type": "code",
   "execution_count": 6,
   "metadata": {},
   "outputs": [],
   "source": [
    "Images = MP.ImportImages()\n",
    "\n",
    "FracStable\t= np.sum(FracStacked[:,(7,8,10)], -1)\n",
    "FracStacked\t= FracStacked[:,-1]\n",
    "\n",
    "XLim = [10.0**-11.0, 10.0**-5.0]\n",
    "\n",
    "Bounds = (XLim[0] <= ConcPoints) & (ConcPoints<= XLim[1])"
   ]
  },
  {
   "cell_type": "code",
   "execution_count": 7,
   "metadata": {},
   "outputs": [
    {
     "name": "stderr",
     "output_type": "stream",
     "text": [
      "/home/vatir/anaconda3/envs/DataViewer27/lib/python2.7/site-packages/matplotlib/axes/_base.py:1322: UserWarning: aspect is not supported for Axes with xscale=log, yscale=linear\n",
      "  'yscale=%s' % (xscale, yscale))\n"
     ]
    },
    {
     "data": {
      "image/png": "[encoded data removed]",
      "text/plain": [
       "<matplotlib.figure.Figure at 0x7f5f32809d10>"
      ]
     },
     "metadata": {},
     "output_type": "display_data"
    }
   ],
   "source": [
    "MainPlot = MP.LinePlot(Width=\"single\")\n",
    "MainPlot.AddLine(ConcPoints[Bounds], FracRing[Bounds], label=\"      \", color=\"red\", clip_on=False, zorder=1)\n",
    "MainPlot.AddLine(ConcPoints[Bounds], FracStacked[Bounds], label=\"      \", color=\"Blue\", clip_on=False, zorder=1)\n",
    "MainPlot.AddLine(ConcPoints[Bounds], FracStable[Bounds], label=\"      \", color=\"Orange\", clip_on=False, zorder=0)\n",
    "\n",
    "MainPlot.AddLegend(\n",
    "    loc = \"lower right\",\n",
    "    #loc = \"upper right\",\n",
    "    labelspacing = 2.5,\n",
    "    )\n",
    "\n",
    "MainPlot.SetXRange(XLim[0],XLim[1])\n",
    "\n",
    "MainPlot.SaveFig(ImgFileName, bbox_inches = 'tight')\n",
    "\n",
    "#T1 =  MainPlot.Legend.get_texts()[0].get_transform()\n",
    "\n",
    "#ImageLoc = [9.0*10.0**5.0,0.123]\n",
    "LegendAdjust = (15.0, -10.0)\n",
    "ImageZoom = 0.05\n",
    "LegendEdges = MainPlot.Legend.get_window_extent()\n",
    "ImageLoc = [LegendEdges.x0 + LegendAdjust[0], LegendEdges.y1 - np.abs(LegendEdges.y0-LegendEdges.y1)/2.0 + LegendAdjust[1]+5.0]\n",
    "ab = AnnotationBbox(\n",
    "    OffsetImage(\n",
    "        Images[-1],\n",
    "        zoom = ImageZoom,\n",
    "        resample = True,\n",
    "        dpi_cor = False,\n",
    "        # Interpolation Options : 'none', 'nearest', 'bilinear', 'bicubic', 'spline16', 'spline36', 'hanning', 'hamming', 'hermite', 'kaiser', 'quadric', 'catrom', 'gaussian', 'bessel', 'mitchell', 'sinc', 'lanczos'\n",
    "        interpolation = \"gaussian\",\n",
    "        ),\n",
    "    ImageLoc,\n",
    "    xybox= ImageLoc,\n",
    "    xycoords='axes points',\n",
    "    #boxcoords=\"offset points\",\n",
    "    pad=0.0,\n",
    "    frameon = False\n",
    "   )\n",
    "MainPlot._Plot.add_artist(ab)\n",
    "\n",
    "#ImageLoc = [9.0*10.0**5.0,0.23]\n",
    "\n",
    "\n",
    "ImageLoc = [LegendEdges.x0 + LegendAdjust[0], LegendEdges.y0 + LegendAdjust[1]]\n",
    "for ImageIndex in [3,8,10,11]:\n",
    "    #ImageLoc = [LegendEdges.x0 + LegendAdjust[0], LegendEdges.y1 + LegendAdjust[1]]\n",
    "    ab = AnnotationBbox(\n",
    "        OffsetImage(\n",
    "            Images[ImageIndex],\n",
    "            zoom = ImageZoom,\n",
    "            resample = True,\n",
    "            dpi_cor = False,\n",
    "            # Interpolation Options : 'none', 'nearest', 'bilinear', 'bicubic', 'spline16', 'spline36', 'hanning', 'hamming', 'hermite', 'kaiser', 'quadric', 'catrom', 'gaussian', 'bessel', 'mitchell', 'sinc', 'lanczos'\n",
    "            interpolation = \"gaussian\",\n",
    "        ),\n",
    "        ImageLoc,\n",
    "        xybox= ImageLoc,\n",
    "        xycoords='axes points',\n",
    "            #boxcoords=\"offset points\",\n",
    "        pad=0.0,\n",
    "        frameon = False\n",
    "    )\n",
    "MainPlot._Plot.add_artist(ab)\n",
    "\n",
    "# MainPlot._Plot.text(\n",
    "# \t0.07,\n",
    "# \t1.0,\n",
    "# \tDataSet,\n",
    "# \ttransform=MainPlot._Plot.transAxes,\n",
    "# \tfontsize=14,\n",
    "# \tverticalalignment='top',\n",
    "# \t)\n",
    "\n",
    "MainPlot.XLabel(\"Time (s)\")\n",
    "MainPlot.YLabel(\"Percent in Complete Complex\")\n"
   ]
  },
  {
   "cell_type": "code",
   "execution_count": 8,
   "metadata": {},
   "outputs": [],
   "source": [
    "MainPlot.SaveFig(ImgFileName, bbox_inches = 'tight')"
   ]
  },
  {
   "cell_type": "code",
   "execution_count": 9,
   "metadata": {},
   "outputs": [],
   "source": [
    "# MP.OpenPDF(ImgFileName)"
   ]
  },
  {
   "cell_type": "code",
   "execution_count": 10,
   "metadata": {},
   "outputs": [
    {
     "data": {
      "text/plain": [
       "'1.5.3'"
      ]
     },
     "execution_count": 10,
     "metadata": {},
     "output_type": "execute_result"
    }
   ],
   "source": [
    "import matplotlib as mpl\n",
    "mpl.__version__"
   ]
  }
 ],
 "metadata": {
  "kernelspec": {
   "display_name": "DataViewer27 Python 2.7.14",
   "language": "python",
   "name": "dataviewer27"
  },
  "language_info": {
   "codemirror_mode": {
    "name": "ipython",
    "version": 2
   },
   "file_extension": ".py",
   "mimetype": "text/x-python",
   "name": "python",
   "nbconvert_exporter": "python",
   "pygments_lexer": "ipython2",
   "version": "2.7.14"
  }
 },
 "nbformat": 4,
 "nbformat_minor": 2
}
