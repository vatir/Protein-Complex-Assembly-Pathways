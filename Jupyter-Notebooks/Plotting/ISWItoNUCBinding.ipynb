{
 "cells": [
  {
   "cell_type": "code",
   "execution_count": 1,
   "metadata": {},
   "outputs": [],
   "source": [
    "import numpy as np"
   ]
  },
  {
   "cell_type": "code",
   "execution_count": 2,
   "metadata": {},
   "outputs": [],
   "source": [
    "B1  = 1.306499562505651; # 1/nM : Technicaly 1/B1\n",
    "B1U = 0.628011;\n",
    "B2  = 13.188605503222075; # 1/nM^2 : Technicaly 1/B2\n",
    "B2U = 7.33096;\n",
    "r1  = 0.072953;\n",
    "r1U = 0.00842918;\n",
    "r2  = 0.121328;\n",
    "r2U = 0.00285027;\n",
    "\n",
    "Protein = np.array([0, 2.990486328, 4.433071913, 5.77689243, 7.309631202, \n",
    "   8.648111332, 10.36536934, 11.88838931, 17.75977874, 24.518128549, \n",
    "   48.22119103, 71.14872575, 93.50754646, 114.9889516]);\n",
    "UProtein = np.array([0, 0.067030478, 0.067448616, 0.067845367, 0.068306212, \n",
    "   0.068715724, 0.069250526, 0.069733439, 0.07166675, 0.07402117, \n",
    "   0.105201457, 0.126848252, 0.148106869, 0.168585158]);\n",
    "Anisotropy10 = np.array([0, 0.028224324, 0.02890357, 0.036851922, 0.048777304, \n",
    "   0.039710592, 0.05816555, 0.055951425, 0.075796326, 0.089965191, \n",
    "   0.104286034, 0.112507896, 0.115502122, 0.115059991]);\n",
    "Anisotropy25 = np.array([0, 0.035135781, 0.054706702, 0.064648821, 0.073797816,\n",
    "    0.068000762, 0.087084019, 0.091287392, 0.092446542, 0.100146355, \n",
    "   0.107722725, 0.11358153, 0.117416064, 0.113661474]);\n",
    "UAnisotropy = np.array([0.006346024, 0.006346024, 0.006346024, 0.006346024, \n",
    "   0.006346024, 0.006346024, 0.006346024, 0.006346024, 0.006346024, \n",
    "   0.006346024, 0.006346024, 0.006346024, 0.006346024, 0.006346024]);\n",
    "\n",
    "kfactor = 2.0;\n",
    "kratio = B1*B1/B2;\n",
    "k1A = B1 / 2.0;"
   ]
  },
  {
   "cell_type": "code",
   "execution_count": 3,
   "metadata": {},
   "outputs": [
    {
     "name": "stdout",
     "output_type": "stream",
     "text": [
      "Ka1 : 1.53080801356\n",
      "Ka2 : 0.0495313762394\n",
      "Ka1 : 0.653249781253\n",
      "Ka2 : 20.1892229921\n"
     ]
    }
   ],
   "source": [
    "print(\"Ka1 : {}\".format(2/B1))\n",
    "print(\"Ka2 : {}\".format(B1/(2*B2)))\n",
    "print(\"Ka1 : {}\".format(1.0/(2/B1)))\n",
    "print(\"Ka2 : {}\".format(1.0/(B1/(2*B2))))"
   ]
  },
  {
   "cell_type": "code",
   "execution_count": 4,
   "metadata": {},
   "outputs": [],
   "source": [
    "from numpy.lib.scimath import sqrt\n",
    "from numpy import conj\n",
    "\n",
    "# param[\"k2A\"] = 4.0*param[\"k1A\"]/param[\"kratio\"]\n",
    "\n",
    "def States(NCP, Protein, B1, B2):\n",
    "    param = {\n",
    "        'r1' :  r1,\n",
    "        'r2'  : r2,\n",
    "        'k1A'  : 1.0 / (2.0*B1),\n",
    "        'kratio' : B2/(B1*B1),\n",
    "        'kfactor'  : 2.0,\n",
    "        'Substrate' : NCP,\n",
    "        'x' : Protein\n",
    "        }\n",
    "\n",
    "    P = -((param['kratio']*(param['k1A']*param['kfactor']+(8.0*param[\"Substrate\"]*param['k1A']**2.0)/param['kratio']-(4.0*param['k1A']**2.0*param[\"x\"])/param['kratio']))/(12.0*param['k1A']**2.0))-(param['kratio']*((12.0*param['k1A']**2.0*(1.0+param[\"Substrate\"]*param['k1A']*param['kfactor']-param['k1A']*param['kfactor']*param[\"x\"]))/param['kratio']-(param['k1A']*param['kfactor']+(8.0*param[\"Substrate\"]*param['k1A']**2.0)/param['kratio']-(4.0*param['k1A']**2.0*param[\"x\"])/param['kratio'])**2.0))/(6.0*2.0**(2.0/3.0)*param['k1A']**2.0*(-2.0*param['k1A']**3.0*param['kfactor']**3.0-(1024.0*param[\"Substrate\"]**3.0*param['k1A']**6.0)/param['kratio']**3.0+(288.0*param[\"Substrate\"]*param['k1A']**4.0)/param['kratio']**2.0-(96.0*param[\"Substrate\"]**2.0*param['k1A']**5.0*param['kfactor'])/param['kratio']**2.0+(36.0*param['k1A']**3.0*param['kfactor'])/param['kratio']-(12.0*param[\"Substrate\"]*param['k1A']**4.0*param['kfactor']**2.0)/param['kratio']+(1536.0*param[\"Substrate\"]**2.0*param['k1A']**6.0*param[\"x\"])/param['kratio']**3.0+(288.0*param['k1A']**4.0*param[\"x\"])/param['kratio']**2.0-(48.0*param[\"Substrate\"]*param['k1A']**5.0*param['kfactor']*param[\"x\"])/param['kratio']**2.0-(12.0*param['k1A']**4.0*param['kfactor']**2.0*param[\"x\"])/param['kratio']-(768.0*param[\"Substrate\"]*param['k1A']**6.0*param[\"x\"]**2.0)/param['kratio']**3.0+(48.0*param['k1A']**5.0*param['kfactor']*param[\"x\"]**2.0)/param['kratio']**2.0+(128.0*param['k1A']**6.0*param[\"x\"]**3.0)/param['kratio']**3.0+sqrt((-2.0*param['k1A']**3.0*param['kfactor']**3.0-(1024.0*param[\"Substrate\"]**3.0*param['k1A']**6.0)/param['kratio']**3.0+(288.0*param[\"Substrate\"]*param['k1A']**4.0)/param['kratio']**2.0-(96.0*param[\"Substrate\"]**2.0*param['k1A']**5.0*param['kfactor'])/param['kratio']**2.0+(36.0*param['k1A']**3.0*param['kfactor'])/param['kratio']-(12.0*param[\"Substrate\"]*param['k1A']**4.0*param['kfactor']**2.0)/param['kratio']+(1536.0*param[\"Substrate\"]**2.0*param['k1A']**6.0*param[\"x\"])/param['kratio']**3.0+(288.0*param['k1A']**4.0*param[\"x\"])/param['kratio']**2.0-(48.0*param[\"Substrate\"]*param['k1A']**5.0*param['kfactor']*param[\"x\"])/param['kratio']**2.0-(12.0*param['k1A']**4.0*param['kfactor']**2.0*param[\"x\"])/param['kratio']-(768.0*param[\"Substrate\"]*param['k1A']**6.0*param[\"x\"]**2.0)/param['kratio']**3.0+(48.0*param['k1A']**5.0*param['kfactor']*param[\"x\"]**2.0)/param['kratio']**2.0+(128.0*param['k1A']**6.0*param[\"x\"]**3.0)/param['kratio']**3.0)**2.0+4.0*((12.0*param['k1A']**2.0*(1.0+param[\"Substrate\"]*param['k1A']*param['kfactor']-param['k1A']*param['kfactor']*param[\"x\"]))/param['kratio']-(param['k1A']*param['kfactor']+(8.0*param[\"Substrate\"]*param['k1A']**2.0)/param['kratio']-(4.0*param['k1A']**2.0*param[\"x\"])/param['kratio'])**2.0)**3.0))**(1.0/3.0))+(1.0/(12.0*2.0**(1.0/3.0)*param['k1A']**2.0))*param['kratio']*(-2.0*param['k1A']**3.0*param['kfactor']**3.0-(1024.0*param[\"Substrate\"]**3.0*param['k1A']**6.0)/param['kratio']**3.0+(288.0*param[\"Substrate\"]*param['k1A']**4.0)/param['kratio']**2.0-(96.0*param[\"Substrate\"]**2.0*param['k1A']**5.0*param['kfactor'])/param['kratio']**2.0+(36.0*param['k1A']**3.0*param['kfactor'])/param['kratio']-(12.0*param[\"Substrate\"]*param['k1A']**4.0*param['kfactor']**2.0)/param['kratio']+(1536.0*param[\"Substrate\"]**2.0*param['k1A']**6.0*param[\"x\"])/param['kratio']**3.0+(288.0*param['k1A']**4.0*param[\"x\"])/param['kratio']**2.0-(48.0*param[\"Substrate\"]*param['k1A']**5.0*param['kfactor']*param[\"x\"])/param['kratio']**2.0-(12.0*param['k1A']**4.0*param['kfactor']**2.0*param[\"x\"])/param['kratio']-(768.0*param[\"Substrate\"]*param['k1A']**6.0*param[\"x\"]**2.0)/param['kratio']**3.0+(48.0*param['k1A']**5.0*param['kfactor']*param[\"x\"]**2.0)/param['kratio']**2.0+(128.0*param['k1A']**6.0*param[\"x\"]**3.0)/param['kratio']**3.0+sqrt((-2.0*param['k1A']**3.0*param['kfactor']**3.0-(1024.0*param[\"Substrate\"]**3.0*param['k1A']**6.0)/param['kratio']**3.0+(288.0*param[\"Substrate\"]*param['k1A']**4.0)/param['kratio']**2.0-(96.0*param[\"Substrate\"]**2.0*param['k1A']**5.0*param['kfactor'])/param['kratio']**2.0+(36.0*param['k1A']**3.0*param['kfactor'])/param['kratio']-(12.0*param[\"Substrate\"]*param['k1A']**4.0*param['kfactor']**2.0)/param['kratio']+(1536.0*param[\"Substrate\"]**2.0*param['k1A']**6.0*param[\"x\"])/param['kratio']**3.0+(288.0*param['k1A']**4.0*param[\"x\"])/param['kratio']**2.0-(48.0*param[\"Substrate\"]*param['k1A']**5.0*param['kfactor']*param[\"x\"])/param['kratio']**2.0-(12.0*param['k1A']**4.0*param['kfactor']**2.0*param[\"x\"])/param['kratio']-(768.0*param[\"Substrate\"]*param['k1A']**6.0*param[\"x\"]**2.0)/param['kratio']**3.0+(48.0*param['k1A']**5.0*param['kfactor']*param[\"x\"]**2.0)/param['kratio']**2.0+(128.0*param['k1A']**6.0*param[\"x\"]**3.0)/param['kratio']**3.0)**2.0+4.0*((12.0*param['k1A']**2.0*(1.0+param[\"Substrate\"]*param['k1A']*param['kfactor']-param['k1A']*param['kfactor']*param[\"x\"]))/param['kratio']-(param['k1A']*param['kfactor']+(8.0*param[\"Substrate\"]*param['k1A']**2.0)/param['kratio']-(4.0*param['k1A']**2.0*param[\"x\"])/param['kratio'])**2.0)**3.0))**(1.0/3.0)\n",
    "    N = 1.0/(-param['k1A']*param['kfactor']**2.0+(16.0*param['k1A'])/param['kratio'])*(-param[\"Substrate\"]*param['k1A']*param['kfactor']**2.0+(16.0*param[\"Substrate\"]*param['k1A'])/param['kratio']+param['k1A']*param['kfactor']**2.0*param[\"x\"]-(8.0*param['k1A']*param[\"x\"])/param['kratio']-param['k1A']*param['kfactor']**2.0*(-((param['kratio']*(param['k1A']*param['kfactor']+(8.0*param[\"Substrate\"]*param['k1A']**2.0)/param['kratio']-(4.0*param['k1A']**2.0*param[\"x\"])/param['kratio']))/(12.0*param['k1A']**2.0))-(param['kratio']*((12.0*param['k1A']**2.0*(1.0+param[\"Substrate\"]*param['k1A']*param['kfactor']-param['k1A']*param['kfactor']*param[\"x\"]))/param['kratio']-(param['k1A']*param['kfactor']+(8.0*param[\"Substrate\"]*param['k1A']**2.0)/param['kratio']-(4.0*param['k1A']**2.0*param[\"x\"])/param['kratio'])**2.0))/(6.0*2.0**(2.0/3.0)*param['k1A']**2.0*(-2.0*param['k1A']**3.0*param['kfactor']**3.0-(1024.0*param[\"Substrate\"]**3.0*param['k1A']**6.0)/param['kratio']**3.0+(288.0*param[\"Substrate\"]*param['k1A']**4.0)/param['kratio']**2.0-(96.0*param[\"Substrate\"]**2.0*param['k1A']**5.0*param['kfactor'])/param['kratio']**2.0+(36.0*param['k1A']**3.0*param['kfactor'])/param['kratio']-(12.0*param[\"Substrate\"]*param['k1A']**4.0*param['kfactor']**2.0)/param['kratio']+(1536.0*param[\"Substrate\"]**2.0*param['k1A']**6.0*param[\"x\"])/param['kratio']**3.0+(288.0*param['k1A']**4.0*param[\"x\"])/param['kratio']**2.0-(48.0*param[\"Substrate\"]*param['k1A']**5.0*param['kfactor']*param[\"x\"])/param['kratio']**2.0-(12.0*param['k1A']**4.0*param['kfactor']**2.0*param[\"x\"])/param['kratio']-(768.0*param[\"Substrate\"]*param['k1A']**6.0*param[\"x\"]**2.0)/param['kratio']**3.0+(48.0*param['k1A']**5.0*param['kfactor']*param[\"x\"]**2.0)/param['kratio']**2.0+(128.0*param['k1A']**6.0*param[\"x\"]**3.0)/param['kratio']**3.0+sqrt((-2.0*param['k1A']**3.0*param['kfactor']**3.0-(1024.0*param[\"Substrate\"]**3.0*param['k1A']**6.0)/param['kratio']**3.0+(288.0*param[\"Substrate\"]*param['k1A']**4.0)/param['kratio']**2.0-(96.0*param[\"Substrate\"]**2.0*param['k1A']**5.0*param['kfactor'])/param['kratio']**2.0+(36.0*param['k1A']**3.0*param['kfactor'])/param['kratio']-(12.0*param[\"Substrate\"]*param['k1A']**4.0*param['kfactor']**2.0)/param['kratio']+(1536.0*param[\"Substrate\"]**2.0*param['k1A']**6.0*param[\"x\"])/param['kratio']**3.0+(288.0*param['k1A']**4.0*param[\"x\"])/param['kratio']**2.0-(48.0*param[\"Substrate\"]*param['k1A']**5.0*param['kfactor']*param[\"x\"])/param['kratio']**2.0-(12.0*param['k1A']**4.0*param['kfactor']**2.0*param[\"x\"])/param['kratio']-(768.0*param[\"Substrate\"]*param['k1A']**6.0*param[\"x\"]**2.0)/param['kratio']**3.0+(48.0*param['k1A']**5.0*param['kfactor']*param[\"x\"]**2.0)/param['kratio']**2.0+(128.0*param['k1A']**6.0*param[\"x\"]**3.0)/param['kratio']**3.0)**2.0+4.0*((12.0*param['k1A']**2.0*(1.0+param[\"Substrate\"]*param['k1A']*param['kfactor']-param['k1A']*param['kfactor']*param[\"x\"]))/param['kratio']-(param['k1A']*param['kfactor']+(8.0*param[\"Substrate\"]*param['k1A']**2.0)/param['kratio']-(4.0*param['k1A']**2.0*param[\"x\"])/param['kratio'])**2.0)**3.0))**(1.0/3.0))+1.0/(12.0*2.0**(1.0/3.0)*param['k1A']**2.0)*param['kratio']*(-2.0*param['k1A']**3.0*param['kfactor']**3.0-(1024.0*param[\"Substrate\"]**3.0*param['k1A']**6.0)/param['kratio']**3.0+(288.0*param[\"Substrate\"]*param['k1A']**4.0)/param['kratio']**2.0-(96.0*param[\"Substrate\"]**2.0*param['k1A']**5.0*param['kfactor'])/param['kratio']**2.0+(36.0*param['k1A']**3.0*param['kfactor'])/param['kratio']-(12.0*param[\"Substrate\"]*param['k1A']**4.0*param['kfactor']**2.0)/param['kratio']+(1536.0*param[\"Substrate\"]**2.0*param['k1A']**6.0*param[\"x\"])/param['kratio']**3.0+(288.0*param['k1A']**4.0*param[\"x\"])/param['kratio']**2.0-(48.0*param[\"Substrate\"]*param['k1A']**5.0*param['kfactor']*param[\"x\"])/param['kratio']**2.0-(12.0*param['k1A']**4.0*param['kfactor']**2.0*param[\"x\"])/param['kratio']-(768.0*param[\"Substrate\"]*param['k1A']**6.0*param[\"x\"]**2.0)/param['kratio']**3.0+(48.0*param['k1A']**5.0*param['kfactor']*param[\"x\"]**2.0)/param['kratio']**2.0+(128.0*param['k1A']**6.0*param[\"x\"]**3.0)/param['kratio']**3.0+sqrt((-2.0*param['k1A']**3.0*param['kfactor']**3.0-(1024.0*param[\"Substrate\"]**3.0*param['k1A']**6.0)/param['kratio']**3.0+(288.0*param[\"Substrate\"]*param['k1A']**4.0)/param['kratio']**2.0-(96.0*param[\"Substrate\"]**2.0*param['k1A']**5.0*param['kfactor'])/param['kratio']**2.0+(36.0*param['k1A']**3.0*param['kfactor'])/param['kratio']-(12.0*param[\"Substrate\"]*param['k1A']**4.0*param['kfactor']**2.0)/param['kratio']+(1536.0*param[\"Substrate\"]**2.0*param['k1A']**6.0*param[\"x\"])/param['kratio']**3.0+(288.0*param['k1A']**4.0*param[\"x\"])/param['kratio']**2.0-(48.0*param[\"Substrate\"]*param['k1A']**5.0*param['kfactor']*param[\"x\"])/param['kratio']**2.0-(12.0*param['k1A']**4.0*param['kfactor']**2.0*param[\"x\"])/param['kratio']-(768.0*param[\"Substrate\"]*param['k1A']**6.0*param[\"x\"]**2.0)/param['kratio']**3.0+(48.0*param['k1A']**5.0*param['kfactor']*param[\"x\"]**2.0)/param['kratio']**2.0+(128.0*param['k1A']**6.0*param[\"x\"]**3.0)/param['kratio']**3.0)**2.0+4.0*((12.0*param['k1A']**2.0*(1.0+param[\"Substrate\"]*param['k1A']*param['kfactor']-param['k1A']*param['kfactor']*param[\"x\"]))/param['kratio']-(param['k1A']*param['kfactor']+(8.0*param[\"Substrate\"]*param['k1A']**2.0)/param['kratio']-(4.0*param['k1A']**2.0*param[\"x\"])/param['kratio'])**2.0)**3.0))**(1.0/3.0))+1.0/param['kratio']*8.0*param['k1A']*(-((param['kratio']*(param['k1A']*param['kfactor']+(8.0*param[\"Substrate\"]*param['k1A']**2.0)/param['kratio']-(4.0*param['k1A']**2.0*param[\"x\"])/param['kratio']))/(12.0*param['k1A']**2.0))-(param['kratio']*((12.0*param['k1A']**2.0*(1.0+param[\"Substrate\"]*param['k1A']*param['kfactor']-param['k1A']*param['kfactor']*param[\"x\"]))/param['kratio']-(param['k1A']*param['kfactor']+(8.0*param[\"Substrate\"]*param['k1A']**2.0)/param['kratio']-(4.0*param['k1A']**2.0*param[\"x\"])/param['kratio'])**2.0))/(6.0*2.0**(2.0/3.0)*param['k1A']**2.0*(-2.0*param['k1A']**3.0*param['kfactor']**3.0-(1024.0*param[\"Substrate\"]**3.0*param['k1A']**6.0)/param['kratio']**3.0+(288.0*param[\"Substrate\"]*param['k1A']**4.0)/param['kratio']**2.0-(96.0*param[\"Substrate\"]**2.0*param['k1A']**5.0*param['kfactor'])/param['kratio']**2.0+(36.0*param['k1A']**3.0*param['kfactor'])/param['kratio']-(12.0*param[\"Substrate\"]*param['k1A']**4.0*param['kfactor']**2.0)/param['kratio']+(1536.0*param[\"Substrate\"]**2.0*param['k1A']**6.0*param[\"x\"])/param['kratio']**3.0+(288.0*param['k1A']**4.0*param[\"x\"])/param['kratio']**2.0-(48.0*param[\"Substrate\"]*param['k1A']**5.0*param['kfactor']*param[\"x\"])/param['kratio']**2.0-(12.0*param['k1A']**4.0*param['kfactor']**2.0*param[\"x\"])/param['kratio']-(768.0*param[\"Substrate\"]*param['k1A']**6.0*param[\"x\"]**2.0)/param['kratio']**3.0+(48.0*param['k1A']**5.0*param['kfactor']*param[\"x\"]**2.0)/param['kratio']**2.0+(128.0*param['k1A']**6.0*param[\"x\"]**3.0)/param['kratio']**3.0+sqrt((-2.0*param['k1A']**3.0*param['kfactor']**3.0-(1024.0*param[\"Substrate\"]**3.0*param['k1A']**6.0)/param['kratio']**3.0+(288.0*param[\"Substrate\"]*param['k1A']**4.0)/param['kratio']**2.0-(96.0*param[\"Substrate\"]**2.0*param['k1A']**5.0*param['kfactor'])/param['kratio']**2.0+(36.0*param['k1A']**3.0*param['kfactor'])/param['kratio']-(12.0*param[\"Substrate\"]*param['k1A']**4.0*param['kfactor']**2.0)/param['kratio']+(1536.0*param[\"Substrate\"]**2.0*param['k1A']**6.0*param[\"x\"])/param['kratio']**3.0+(288.0*param['k1A']**4.0*param[\"x\"])/param['kratio']**2.0-(48.0*param[\"Substrate\"]*param['k1A']**5.0*param['kfactor']*param[\"x\"])/param['kratio']**2.0-(12.0*param['k1A']**4.0*param['kfactor']**2.0*param[\"x\"])/param['kratio']-(768.0*param[\"Substrate\"]*param['k1A']**6.0*param[\"x\"]**2.0)/param['kratio']**3.0+(48.0*param['k1A']**5.0*param['kfactor']*param[\"x\"]**2.0)/param['kratio']**2.0+(128.0*param['k1A']**6.0*param[\"x\"]**3.0)/param['kratio']**3.0)**2.0+4.0*((12.0*param['k1A']**2.0*(1.0+param[\"Substrate\"]*param['k1A']*param['kfactor']-param['k1A']*param['kfactor']*param[\"x\"]))/param['kratio']-(param['k1A']*param['kfactor']+(8.0*param[\"Substrate\"]*param['k1A']**2.0)/param['kratio']-(4.0*param['k1A']**2.0*param[\"x\"])/param['kratio'])**2.0)**3.0))**(1.0/3.0))+1.0/(12.0*2.0**(1.0/3.0)*param['k1A']**2.0)*param['kratio']*(-2.0*param['k1A']**3.0*param['kfactor']**3.0-(1024.0*param[\"Substrate\"]**3.0*param['k1A']**6.0)/param['kratio']**3.0+(288.0*param[\"Substrate\"]*param['k1A']**4.0)/param['kratio']**2.0-(96.0*param[\"Substrate\"]**2.0*param['k1A']**5.0*param['kfactor'])/param['kratio']**2.0+(36.0*param['k1A']**3.0*param['kfactor'])/param['kratio']-(12.0*param[\"Substrate\"]*param['k1A']**4.0*param['kfactor']**2.0)/param['kratio']+(1536.0*param[\"Substrate\"]**2.0*param['k1A']**6.0*param[\"x\"])/param['kratio']**3.0+(288.0*param['k1A']**4.0*param[\"x\"])/param['kratio']**2.0-(48.0*param[\"Substrate\"]*param['k1A']**5.0*param['kfactor']*param[\"x\"])/param['kratio']**2.0-(12.0*param['k1A']**4.0*param['kfactor']**2.0*param[\"x\"])/param['kratio']-(768.0*param[\"Substrate\"]*param['k1A']**6.0*param[\"x\"]**2.0)/param['kratio']**3.0+(48.0*param['k1A']**5.0*param['kfactor']*param[\"x\"]**2.0)/param['kratio']**2.0+(128.0*param['k1A']**6.0*param[\"x\"]**3.0)/param['kratio']**3.0+sqrt((-2.0*param['k1A']**3.0*param['kfactor']**3.0-(1024.0*param[\"Substrate\"]**3.0*param['k1A']**6.0)/param['kratio']**3.0+(288.0*param[\"Substrate\"]*param['k1A']**4.0)/param['kratio']**2.0-(96.0*param[\"Substrate\"]**2.0*param['k1A']**5.0*param['kfactor'])/param['kratio']**2.0+(36.0*param['k1A']**3.0*param['kfactor'])/param['kratio']-(12.0*param[\"Substrate\"]*param['k1A']**4.0*param['kfactor']**2.0)/param['kratio']+(1536.0*param[\"Substrate\"]**2.0*param['k1A']**6.0*param[\"x\"])/param['kratio']**3.0+(288.0*param['k1A']**4.0*param[\"x\"])/param['kratio']**2.0-(48.0*param[\"Substrate\"]*param['k1A']**5.0*param['kfactor']*param[\"x\"])/param['kratio']**2.0-(12.0*param['k1A']**4.0*param['kfactor']**2.0*param[\"x\"])/param['kratio']-(768.0*param[\"Substrate\"]*param['k1A']**6.0*param[\"x\"]**2.0)/param['kratio']**3.0+(48.0*param['k1A']**5.0*param['kfactor']*param[\"x\"]**2.0)/param['kratio']**2.0+(128.0*param['k1A']**6.0*param[\"x\"]**3.0)/param['kratio']**3.0)**2.0+4.0*((12.0*param['k1A']**2.0*(1.0+param[\"Substrate\"]*param['k1A']*param['kfactor']-param['k1A']*param['kfactor']*param[\"x\"]))/param['kratio']-(param['k1A']*param['kfactor']+(8.0*param[\"Substrate\"]*param['k1A']**2.0)/param['kratio']-(4.0*param['k1A']**2.0*param[\"x\"])/param['kratio'])**2.0)**3.0))**(1.0/3.0))-1.0/param['kratio']*8.0*param[\"Substrate\"]*param['k1A']**2.0*param['kfactor']*(-((param['kratio']*(param['k1A']*param['kfactor']+(8.0*param[\"Substrate\"]*param['k1A']**2.0)/param['kratio']-(4.0*param['k1A']**2.0*param[\"x\"])/param['kratio']))/(12.0*param['k1A']**2.0))-(param['kratio']*((12.0*param['k1A']**2.0*(1.0+param[\"Substrate\"]*param['k1A']*param['kfactor']-param['k1A']*param['kfactor']*param[\"x\"]))/param['kratio']-(param['k1A']*param['kfactor']+(8.0*param[\"Substrate\"]*param['k1A']**2.0)/param['kratio']-(4.0*param['k1A']**2.0*param[\"x\"])/param['kratio'])**2.0))/(6.0*2.0**(2.0/3.0)*param['k1A']**2.0*(-2.0*param['k1A']**3.0*param['kfactor']**3.0-(1024.0*param[\"Substrate\"]**3.0*param['k1A']**6.0)/param['kratio']**3.0+(288.0*param[\"Substrate\"]*param['k1A']**4.0)/param['kratio']**2.0-(96.0*param[\"Substrate\"]**2.0*param['k1A']**5.0*param['kfactor'])/param['kratio']**2.0+(36.0*param['k1A']**3.0*param['kfactor'])/param['kratio']-(12.0*param[\"Substrate\"]*param['k1A']**4.0*param['kfactor']**2.0)/param['kratio']+(1536.0*param[\"Substrate\"]**2.0*param['k1A']**6.0*param[\"x\"])/param['kratio']**3.0+(288.0*param['k1A']**4.0*param[\"x\"])/param['kratio']**2.0-(48.0*param[\"Substrate\"]*param['k1A']**5.0*param['kfactor']*param[\"x\"])/param['kratio']**2.0-(12.0*param['k1A']**4.0*param['kfactor']**2.0*param[\"x\"])/param['kratio']-(768.0*param[\"Substrate\"]*param['k1A']**6.0*param[\"x\"]**2.0)/param['kratio']**3.0+(48.0*param['k1A']**5.0*param['kfactor']*param[\"x\"]**2.0)/param['kratio']**2.0+(128.0*param['k1A']**6.0*param[\"x\"]**3.0)/param['kratio']**3.0+sqrt((-2.0*param['k1A']**3.0*param['kfactor']**3.0-(1024.0*param[\"Substrate\"]**3.0*param['k1A']**6.0)/param['kratio']**3.0+(288.0*param[\"Substrate\"]*param['k1A']**4.0)/param['kratio']**2.0-(96.0*param[\"Substrate\"]**2.0*param['k1A']**5.0*param['kfactor'])/param['kratio']**2.0+(36.0*param['k1A']**3.0*param['kfactor'])/param['kratio']-(12.0*param[\"Substrate\"]*param['k1A']**4.0*param['kfactor']**2.0)/param['kratio']+(1536.0*param[\"Substrate\"]**2.0*param['k1A']**6.0*param[\"x\"])/param['kratio']**3.0+(288.0*param['k1A']**4.0*param[\"x\"])/param['kratio']**2.0-(48.0*param[\"Substrate\"]*param['k1A']**5.0*param['kfactor']*param[\"x\"])/param['kratio']**2.0-(12.0*param['k1A']**4.0*param['kfactor']**2.0*param[\"x\"])/param['kratio']-(768.0*param[\"Substrate\"]*param['k1A']**6.0*param[\"x\"]**2.0)/param['kratio']**3.0+(48.0*param['k1A']**5.0*param['kfactor']*param[\"x\"]**2.0)/param['kratio']**2.0+(128.0*param['k1A']**6.0*param[\"x\"]**3.0)/param['kratio']**3.0)**2.0+4.0*((12.0*param['k1A']**2.0*(1.0+param[\"Substrate\"]*param['k1A']*param['kfactor']-param['k1A']*param['kfactor']*param[\"x\"]))/param['kratio']-(param['k1A']*param['kfactor']+(8.0*param[\"Substrate\"]*param['k1A']**2.0)/param['kratio']-(4.0*param['k1A']**2.0*param[\"x\"])/param['kratio'])**2.0)**3.0))**(1.0/3.0))+1.0/(12.0*2.0**(1.0/3.0)*param['k1A']**2.0)*param['kratio']*(-2.0*param['k1A']**3.0*param['kfactor']**3.0-(1024.0*param[\"Substrate\"]**3.0*param['k1A']**6.0)/param['kratio']**3.0+(288.0*param[\"Substrate\"]*param['k1A']**4.0)/param['kratio']**2.0-(96.0*param[\"Substrate\"]**2.0*param['k1A']**5.0*param['kfactor'])/param['kratio']**2.0+(36.0*param['k1A']**3.0*param['kfactor'])/param['kratio']-(12.0*param[\"Substrate\"]*param['k1A']**4.0*param['kfactor']**2.0)/param['kratio']+(1536.0*param[\"Substrate\"]**2.0*param['k1A']**6.0*param[\"x\"])/param['kratio']**3.0+(288.0*param['k1A']**4.0*param[\"x\"])/param['kratio']**2.0-(48.0*param[\"Substrate\"]*param['k1A']**5.0*param['kfactor']*param[\"x\"])/param['kratio']**2.0-(12.0*param['k1A']**4.0*param['kfactor']**2.0*param[\"x\"])/param['kratio']-(768.0*param[\"Substrate\"]*param['k1A']**6.0*param[\"x\"]**2.0)/param['kratio']**3.0+(48.0*param['k1A']**5.0*param['kfactor']*param[\"x\"]**2.0)/param['kratio']**2.0+(128.0*param['k1A']**6.0*param[\"x\"]**3.0)/param['kratio']**3.0+sqrt((-2.0*param['k1A']**3.0*param['kfactor']**3.0-(1024.0*param[\"Substrate\"]**3.0*param['k1A']**6.0)/param['kratio']**3.0+(288.0*param[\"Substrate\"]*param['k1A']**4.0)/param['kratio']**2.0-(96.0*param[\"Substrate\"]**2.0*param['k1A']**5.0*param['kfactor'])/param['kratio']**2.0+(36.0*param['k1A']**3.0*param['kfactor'])/param['kratio']-(12.0*param[\"Substrate\"]*param['k1A']**4.0*param['kfactor']**2.0)/param['kratio']+(1536.0*param[\"Substrate\"]**2.0*param['k1A']**6.0*param[\"x\"])/param['kratio']**3.0+(288.0*param['k1A']**4.0*param[\"x\"])/param['kratio']**2.0-(48.0*param[\"Substrate\"]*param['k1A']**5.0*param['kfactor']*param[\"x\"])/param['kratio']**2.0-(12.0*param['k1A']**4.0*param['kfactor']**2.0*param[\"x\"])/param['kratio']-(768.0*param[\"Substrate\"]*param['k1A']**6.0*param[\"x\"]**2.0)/param['kratio']**3.0+(48.0*param['k1A']**5.0*param['kfactor']*param[\"x\"]**2.0)/param['kratio']**2.0+(128.0*param['k1A']**6.0*param[\"x\"]**3.0)/param['kratio']**3.0)**2.0+4.0*((12.0*param['k1A']**2.0*(1.0+param[\"Substrate\"]*param['k1A']*param['kfactor']-param['k1A']*param['kfactor']*param[\"x\"]))/param['kratio']-(param['k1A']*param['kfactor']+(8.0*param[\"Substrate\"]*param['k1A']**2.0)/param['kratio']-(4.0*param['k1A']**2.0*param[\"x\"])/param['kratio'])**2.0)**3.0))**(1.0/3.0))+1.0/param['kratio']*4.0*param['k1A']**2.0*param['kfactor']*param[\"x\"]*(-((param['kratio']*(param['k1A']*param['kfactor']+(8.0*param[\"Substrate\"]*param['k1A']**2.0)/param['kratio']-(4.0*param['k1A']**2.0*param[\"x\"])/param['kratio']))/(12.0*param['k1A']**2.0))-(param['kratio']*((12.0*param['k1A']**2.0*(1.0+param[\"Substrate\"]*param['k1A']*param['kfactor']-param['k1A']*param['kfactor']*param[\"x\"]))/param['kratio']-(param['k1A']*param['kfactor']+(8.0*param[\"Substrate\"]*param['k1A']**2.0)/param['kratio']-(4.0*param['k1A']**2.0*param[\"x\"])/param['kratio'])**2.0))/(6.0*2.0**(2.0/3.0)*param['k1A']**2.0*(-2.0*param['k1A']**3.0*param['kfactor']**3.0-(1024.0*param[\"Substrate\"]**3.0*param['k1A']**6.0)/param['kratio']**3.0+(288.0*param[\"Substrate\"]*param['k1A']**4.0)/param['kratio']**2.0-(96.0*param[\"Substrate\"]**2.0*param['k1A']**5.0*param['kfactor'])/param['kratio']**2.0+(36.0*param['k1A']**3.0*param['kfactor'])/param['kratio']-(12.0*param[\"Substrate\"]*param['k1A']**4.0*param['kfactor']**2.0)/param['kratio']+(1536.0*param[\"Substrate\"]**2.0*param['k1A']**6.0*param[\"x\"])/param['kratio']**3.0+(288.0*param['k1A']**4.0*param[\"x\"])/param['kratio']**2.0-(48.0*param[\"Substrate\"]*param['k1A']**5.0*param['kfactor']*param[\"x\"])/param['kratio']**2.0-(12.0*param['k1A']**4.0*param['kfactor']**2.0*param[\"x\"])/param['kratio']-(768.0*param[\"Substrate\"]*param['k1A']**6.0*param[\"x\"]**2.0)/param['kratio']**3.0+(48.0*param['k1A']**5.0*param['kfactor']*param[\"x\"]**2.0)/param['kratio']**2.0+(128.0*param['k1A']**6.0*param[\"x\"]**3.0)/param['kratio']**3.0+sqrt((-2.0*param['k1A']**3.0*param['kfactor']**3.0-(1024.0*param[\"Substrate\"]**3.0*param['k1A']**6.0)/param['kratio']**3.0+(288.0*param[\"Substrate\"]*param['k1A']**4.0)/param['kratio']**2.0-(96.0*param[\"Substrate\"]**2.0*param['k1A']**5.0*param['kfactor'])/param['kratio']**2.0+(36.0*param['k1A']**3.0*param['kfactor'])/param['kratio']-(12.0*param[\"Substrate\"]*param['k1A']**4.0*param['kfactor']**2.0)/param['kratio']+(1536.0*param[\"Substrate\"]**2.0*param['k1A']**6.0*param[\"x\"])/param['kratio']**3.0+(288.0*param['k1A']**4.0*param[\"x\"])/param['kratio']**2.0-(48.0*param[\"Substrate\"]*param['k1A']**5.0*param['kfactor']*param[\"x\"])/param['kratio']**2.0-(12.0*param['k1A']**4.0*param['kfactor']**2.0*param[\"x\"])/param['kratio']-(768.0*param[\"Substrate\"]*param['k1A']**6.0*param[\"x\"]**2.0)/param['kratio']**3.0+(48.0*param['k1A']**5.0*param['kfactor']*param[\"x\"]**2.0)/param['kratio']**2.0+(128.0*param['k1A']**6.0*param[\"x\"]**3.0)/param['kratio']**3.0)**2.0+4.0*((12.0*param['k1A']**2.0*(1.0+param[\"Substrate\"]*param['k1A']*param['kfactor']-param['k1A']*param['kfactor']*param[\"x\"]))/param['kratio']-(param['k1A']*param['kfactor']+(8.0*param[\"Substrate\"]*param['k1A']**2.0)/param['kratio']-(4.0*param['k1A']**2.0*param[\"x\"])/param['kratio'])**2.0)**3.0))**(1.0/3.0))+1.0/(12.0*2.0**(1.0/3.0)*param['k1A']**2.0)*param['kratio']*(-2.0*param['k1A']**3.0*param['kfactor']**3.0-(1024.0*param[\"Substrate\"]**3.0*param['k1A']**6.0)/param['kratio']**3.0+(288.0*param[\"Substrate\"]*param['k1A']**4.0)/param['kratio']**2.0-(96.0*param[\"Substrate\"]**2.0*param['k1A']**5.0*param['kfactor'])/param['kratio']**2.0+(36.0*param['k1A']**3.0*param['kfactor'])/param['kratio']-(12.0*param[\"Substrate\"]*param['k1A']**4.0*param['kfactor']**2.0)/param['kratio']+(1536.0*param[\"Substrate\"]**2.0*param['k1A']**6.0*param[\"x\"])/param['kratio']**3.0+(288.0*param['k1A']**4.0*param[\"x\"])/param['kratio']**2.0-(48.0*param[\"Substrate\"]*param['k1A']**5.0*param['kfactor']*param[\"x\"])/param['kratio']**2.0-(12.0*param['k1A']**4.0*param['kfactor']**2.0*param[\"x\"])/param['kratio']-(768.0*param[\"Substrate\"]*param['k1A']**6.0*param[\"x\"]**2.0)/param['kratio']**3.0+(48.0*param['k1A']**5.0*param['kfactor']*param[\"x\"]**2.0)/param['kratio']**2.0+(128.0*param['k1A']**6.0*param[\"x\"]**3.0)/param['kratio']**3.0+sqrt((-2.0*param['k1A']**3.0*param['kfactor']**3.0-(1024.0*param[\"Substrate\"]**3.0*param['k1A']**6.0)/param['kratio']**3.0+(288.0*param[\"Substrate\"]*param['k1A']**4.0)/param['kratio']**2.0-(96.0*param[\"Substrate\"]**2.0*param['k1A']**5.0*param['kfactor'])/param['kratio']**2.0+(36.0*param['k1A']**3.0*param['kfactor'])/param['kratio']-(12.0*param[\"Substrate\"]*param['k1A']**4.0*param['kfactor']**2.0)/param['kratio']+(1536.0*param[\"Substrate\"]**2.0*param['k1A']**6.0*param[\"x\"])/param['kratio']**3.0+(288.0*param['k1A']**4.0*param[\"x\"])/param['kratio']**2.0-(48.0*param[\"Substrate\"]*param['k1A']**5.0*param['kfactor']*param[\"x\"])/param['kratio']**2.0-(12.0*param['k1A']**4.0*param['kfactor']**2.0*param[\"x\"])/param['kratio']-(768.0*param[\"Substrate\"]*param['k1A']**6.0*param[\"x\"]**2.0)/param['kratio']**3.0+(48.0*param['k1A']**5.0*param['kfactor']*param[\"x\"]**2.0)/param['kratio']**2.0+(128.0*param['k1A']**6.0*param[\"x\"]**3.0)/param['kratio']**3.0)**2.0+4.0*((12.0*param['k1A']**2.0*(1.0+param[\"Substrate\"]*param['k1A']*param['kfactor']-param['k1A']*param['kfactor']*param[\"x\"]))/param['kratio']-(param['k1A']*param['kfactor']+(8.0*param[\"Substrate\"]*param['k1A']**2.0)/param['kratio']-(4.0*param['k1A']**2.0*param[\"x\"])/param['kratio'])**2.0)**3.0))**(1.0/3.0))-1.0/param['kratio']*4.0*param['k1A']**2.0*param['kfactor']*(-((param['kratio']*(param['k1A']*param['kfactor']+(8.0*param[\"Substrate\"]*param['k1A']**2.0)/param['kratio']-(4.0*param['k1A']**2.0*param[\"x\"])/param['kratio']))/(12.0*param['k1A']**2.0))-(param['kratio']*((12.0*param['k1A']**2.0*(1.0+param[\"Substrate\"]*param['k1A']*param['kfactor']-param['k1A']*param['kfactor']*param[\"x\"]))/param['kratio']-(param['k1A']*param['kfactor']+(8.0*param[\"Substrate\"]*param['k1A']**2.0)/param['kratio']-(4.0*param['k1A']**2.0*param[\"x\"])/param['kratio'])**2.0))/(6.0*2.0**(2.0/3.0)*param['k1A']**2.0*(-2.0*param['k1A']**3.0*param['kfactor']**3.0-(1024.0*param[\"Substrate\"]**3.0*param['k1A']**6.0)/param['kratio']**3.0+(288.0*param[\"Substrate\"]*param['k1A']**4.0)/param['kratio']**2.0-(96.0*param[\"Substrate\"]**2.0*param['k1A']**5.0*param['kfactor'])/param['kratio']**2.0+(36.0*param['k1A']**3.0*param['kfactor'])/param['kratio']-(12.0*param[\"Substrate\"]*param['k1A']**4.0*param['kfactor']**2.0)/param['kratio']+(1536.0*param[\"Substrate\"]**2.0*param['k1A']**6.0*param[\"x\"])/param['kratio']**3.0+(288.0*param['k1A']**4.0*param[\"x\"])/param['kratio']**2.0-(48.0*param[\"Substrate\"]*param['k1A']**5.0*param['kfactor']*param[\"x\"])/param['kratio']**2.0-(12.0*param['k1A']**4.0*param['kfactor']**2.0*param[\"x\"])/param['kratio']-(768.0*param[\"Substrate\"]*param['k1A']**6.0*param[\"x\"]**2.0)/param['kratio']**3.0+(48.0*param['k1A']**5.0*param['kfactor']*param[\"x\"]**2.0)/param['kratio']**2.0+(128.0*param['k1A']**6.0*param[\"x\"]**3.0)/param['kratio']**3.0+sqrt((-2.0*param['k1A']**3.0*param['kfactor']**3.0-(1024.0*param[\"Substrate\"]**3.0*param['k1A']**6.0)/param['kratio']**3.0+(288.0*param[\"Substrate\"]*param['k1A']**4.0)/param['kratio']**2.0-(96.0*param[\"Substrate\"]**2.0*param['k1A']**5.0*param['kfactor'])/param['kratio']**2.0+(36.0*param['k1A']**3.0*param['kfactor'])/param['kratio']-(12.0*param[\"Substrate\"]*param['k1A']**4.0*param['kfactor']**2.0)/param['kratio']+(1536.0*param[\"Substrate\"]**2.0*param['k1A']**6.0*param[\"x\"])/param['kratio']**3.0+(288.0*param['k1A']**4.0*param[\"x\"])/param['kratio']**2.0-(48.0*param[\"Substrate\"]*param['k1A']**5.0*param['kfactor']*param[\"x\"])/param['kratio']**2.0-(12.0*param['k1A']**4.0*param['kfactor']**2.0*param[\"x\"])/param['kratio']-(768.0*param[\"Substrate\"]*param['k1A']**6.0*param[\"x\"]**2.0)/param['kratio']**3.0+(48.0*param['k1A']**5.0*param['kfactor']*param[\"x\"]**2.0)/param['kratio']**2.0+(128.0*param['k1A']**6.0*param[\"x\"]**3.0)/param['kratio']**3.0)**2.0+4.0*((12.0*param['k1A']**2.0*(1.0+param[\"Substrate\"]*param['k1A']*param['kfactor']-param['k1A']*param['kfactor']*param[\"x\"]))/param['kratio']-(param['k1A']*param['kfactor']+(8.0*param[\"Substrate\"]*param['k1A']**2.0)/param['kratio']-(4.0*param['k1A']**2.0*param[\"x\"])/param['kratio'])**2.0)**3.0))**(1.0/3.0))+1.0/(12.0*2.0**(1.0/3.0)*param['k1A']**2.0)*param['kratio']*(-2.0*param['k1A']**3.0*param['kfactor']**3.0-(1024.0*param[\"Substrate\"]**3.0*param['k1A']**6.0)/param['kratio']**3.0+(288.0*param[\"Substrate\"]*param['k1A']**4.0)/param['kratio']**2.0-(96.0*param[\"Substrate\"]**2.0*param['k1A']**5.0*param['kfactor'])/param['kratio']**2.0+(36.0*param['k1A']**3.0*param['kfactor'])/param['kratio']-(12.0*param[\"Substrate\"]*param['k1A']**4.0*param['kfactor']**2.0)/param['kratio']+(1536.0*param[\"Substrate\"]**2.0*param['k1A']**6.0*param[\"x\"])/param['kratio']**3.0+(288.0*param['k1A']**4.0*param[\"x\"])/param['kratio']**2.0-(48.0*param[\"Substrate\"]*param['k1A']**5.0*param['kfactor']*param[\"x\"])/param['kratio']**2.0-(12.0*param['k1A']**4.0*param['kfactor']**2.0*param[\"x\"])/param['kratio']-(768.0*param[\"Substrate\"]*param['k1A']**6.0*param[\"x\"]**2.0)/param['kratio']**3.0+(48.0*param['k1A']**5.0*param['kfactor']*param[\"x\"]**2.0)/param['kratio']**2.0+(128.0*param['k1A']**6.0*param[\"x\"]**3.0)/param['kratio']**3.0+sqrt((-2.0*param['k1A']**3.0*param['kfactor']**3.0-(1024.0*param[\"Substrate\"]**3.0*param['k1A']**6.0)/param['kratio']**3.0+(288.0*param[\"Substrate\"]*param['k1A']**4.0)/param['kratio']**2.0-(96.0*param[\"Substrate\"]**2.0*param['k1A']**5.0*param['kfactor'])/param['kratio']**2.0+(36.0*param['k1A']**3.0*param['kfactor'])/param['kratio']-(12.0*param[\"Substrate\"]*param['k1A']**4.0*param['kfactor']**2.0)/param['kratio']+(1536.0*param[\"Substrate\"]**2.0*param['k1A']**6.0*param[\"x\"])/param['kratio']**3.0+(288.0*param['k1A']**4.0*param[\"x\"])/param['kratio']**2.0-(48.0*param[\"Substrate\"]*param['k1A']**5.0*param['kfactor']*param[\"x\"])/param['kratio']**2.0-(12.0*param['k1A']**4.0*param['kfactor']**2.0*param[\"x\"])/param['kratio']-(768.0*param[\"Substrate\"]*param['k1A']**6.0*param[\"x\"]**2.0)/param['kratio']**3.0+(48.0*param['k1A']**5.0*param['kfactor']*param[\"x\"]**2.0)/param['kratio']**2.0+(128.0*param['k1A']**6.0*param[\"x\"]**3.0)/param['kratio']**3.0)**2.0+4.0*((12.0*param['k1A']**2.0*(1.0+param[\"Substrate\"]*param['k1A']*param['kfactor']-param['k1A']*param['kfactor']*param[\"x\"]))/param['kratio']-(param['k1A']*param['kfactor']+(8.0*param[\"Substrate\"]*param['k1A']**2.0)/param['kratio']-(4.0*param['k1A']**2.0*param[\"x\"])/param['kratio'])**2.0)**3.0))**(1.0/3.0))**2.0)\n",
    "    P = np.abs(P)\n",
    "    N = np.abs(N)\n",
    "    PN = P * N / B1\n",
    "    PPN = P * P * N / B2\n",
    "    return (P,N,PN,PPN)\n",
    "\n",
    "def PlotSim(NCP, Protein, B1, B2, r1, r2):\n",
    "    P, N, PN, PPN = States(NCP, Protein, B1, B2)\n",
    "    return (r1*PN + r2*PPN)/NCP\n",
    "\n"
   ]
  },
  {
   "cell_type": "code",
   "execution_count": 5,
   "metadata": {},
   "outputs": [
    {
     "name": "stdout",
     "output_type": "stream",
     "text": [
      "20.0\n",
      "10.0\n",
      "(7.1956500556267997, 0.95845141124811317, 5.2787472331306189, 3.7628013556213342)\n"
     ]
    },
    {
     "data": {
      "text/plain": [
       "[2.5288366554212859e-16,\n",
       " 0.018558404829708247,\n",
       " 0.026898982251099011,\n",
       " 0.034247013299448181,\n",
       " 0.042084285452803981,\n",
       " 0.048424814318856903,\n",
       " 0.055850445533995222,\n",
       " 0.06177147370476116,\n",
       " 0.079310354514356196,\n",
       " 0.091710800661878977,\n",
       " 0.10827686291430812,\n",
       " 0.11311813060472012,\n",
       " 0.11533162909010419,\n",
       " 0.11657269608856154]"
      ]
     },
     "execution_count": 5,
     "metadata": {},
     "output_type": "execute_result"
    }
   ],
   "source": [
    "T = States(10.0, 20.0, B1, B2)\n",
    "print(T[0] + T[2]+T[3]*2)\n",
    "print(T[1] + T[2]+T[3])\n",
    "print(T)\n",
    "[PlotSim(10.0, CP, B1, B2, r1, r2) for CP in Protein]"
   ]
  },
  {
   "cell_type": "code",
   "execution_count": 6,
   "metadata": {},
   "outputs": [
    {
     "data": {
      "text/plain": [
       "2.612999125016156"
      ]
     },
     "execution_count": 6,
     "metadata": {},
     "output_type": "execute_result"
    }
   ],
   "source": [
    "1/0.382702003390"
   ]
  },
  {
   "cell_type": "code",
   "execution_count": 7,
   "metadata": {},
   "outputs": [],
   "source": [
    "%load_ext autoreload\n",
    "%autoreload 2\n",
    "\n",
    "import sys\n",
    "import numpy as np"
   ]
  },
  {
   "cell_type": "code",
   "execution_count": 8,
   "metadata": {},
   "outputs": [
    {
     "name": "stdout",
     "output_type": "stream",
     "text": [
      "Available matplotlib backends: ['osx', 'qt4', 'qt5', 'gtk3', 'notebook', 'wx', 'qt', 'nbagg', 'gtk', 'tk', 'inline']\n"
     ]
    }
   ],
   "source": [
    "%matplotlib --list\n",
    "\n",
    "# import matplotlib\n",
    "# import matplotlib.pyplot as mpl\n",
    "# import matplotlib.ticker\n",
    "# import matplotlib.cm as cm\n",
    "\n",
    "import MPLGUI as MP\n",
    "%matplotlib inline"
   ]
  },
  {
   "cell_type": "code",
   "execution_count": 9,
   "metadata": {},
   "outputs": [],
   "source": [
    "# Function Based Example\n",
    "\n",
    "# Import Binding Funtions\n",
    "from Helpers.OneToOne import *\n",
    "\n",
    "N = 1e2\n",
    "XLim = [0.0, 120.0]\n",
    "YLim = [0.0, 0.125]\n",
    "\n",
    "XAxisPoints = np.linspace(XLim[0],XLim[1], N)\n",
    "\n",
    "# Generate Plot Data\n",
    "NCP25  = np.array([PlotSim(2.5, CP, B1, B2, r1, r2) for CP in XAxisPoints])\n",
    "NCP25H = np.array([PlotSim(2.5, CP, B1-B1U, B2-B2U, r1+r1U, r2+r2U) for CP in XAxisPoints])\n",
    "NCP25L = np.array([PlotSim(2.5, CP, B1+B1U, B2+B2U, r1-r1U, r2-r2U) for CP in XAxisPoints])\n",
    "NCP10  = np.array([PlotSim(10.0, CP, B1, B2, r1, r2) for CP in XAxisPoints])\n",
    "NCP10H = np.array([PlotSim(10.0, CP, B1-B1U, B2-B2U, r1+r1U, r2+r2U) for CP in XAxisPoints])\n",
    "NCP10L = np.array([PlotSim(10.0, CP, B1+B1U, B2+B2U, r1-r1U, r2-r2U) for CP in XAxisPoints])"
   ]
  },
  {
   "cell_type": "code",
   "execution_count": 10,
   "metadata": {},
   "outputs": [],
   "source": [
    "# Figure Settings\n",
    "ImgFileName = 'Line_r_vs_ISWI.pdf'\n",
    "XAxisLabel  = r'[ISWI]$_0$ (nM)'\n",
    "YAxisLabel  = r'Change in Anisotropy ($\\Delta r$)'\n",
    "\n",
    "XBounds = (XLim[0] <= XAxisPoints) & (XAxisPoints <= XLim[1])\n",
    "XAxisPoints = XAxisPoints[XBounds]"
   ]
  },
  {
   "cell_type": "code",
   "execution_count": 11,
   "metadata": {},
   "outputs": [
    {
     "name": "stderr",
     "output_type": "stream",
     "text": [
      "/home/vatir/anaconda3/envs/DataViewer27/lib/python2.7/site-packages/matplotlib/figure.py:397: UserWarning: matplotlib is currently using a non-GUI backend, so cannot show the figure\n",
      "  \"matplotlib is currently using a non-GUI backend, \"\n",
      "/home/vatir/anaconda3/envs/DataViewer27/lib/python2.7/site-packages/matplotlib/font_manager.py:1288: UserWarning: findfont: Font family [u'cursive'] not found. Falling back to Bitstream Vera Sans\n",
      "  (prop.get_family(), self.defaultFamily[fontext]))\n"
     ]
    },
    {
     "data": {
      "image/png": "[encoded data removed]",
      "text/plain": [
       "<matplotlib.figure.Figure at 0x7ff9f77dd890>"
      ]
     },
     "metadata": {},
     "output_type": "display_data"
    }
   ],
   "source": [
    "MainPlot = MP.LinePlot(\n",
    "    Width=\"wide\",\n",
    "    YAxisInPercent = False,\n",
    "    subplot = 211,\n",
    "    )\n",
    "\n",
    "MainPlot.AddLine(\n",
    "    XAxisPoints,\n",
    "    NCP25[XBounds],\n",
    "#     label=\"2.5 nM NCP\",\n",
    "    color=\"red\",\n",
    "    clip_on=False,\n",
    "    alpha=0.8,\n",
    "    zorder=1,\n",
    "    xlog = False,\n",
    "    )\n",
    "MainPlot._Plot.fill_between(\n",
    "    XAxisPoints,\n",
    "    NCP25L[XBounds],\n",
    "    NCP25H[XBounds],\n",
    "    color=\"red\",\n",
    "    alpha=0.2,\n",
    "#     edgecolor='#1B2ACC',\n",
    "#     facecolor='#089FFF',\n",
    "    linewidth=1,\n",
    "#     linestyle='dashdot',\n",
    "    antialiased=True,\n",
    ")\n",
    "\n",
    "MainPlot.AddLine(\n",
    "    XAxisPoints,\n",
    "    NCP10[XBounds],\n",
    "#     label=\"10 nM NCP\",\n",
    "    color=\"Blue\",\n",
    "    clip_on=False,\n",
    "    alpha=0.8,\n",
    "    zorder=1,\n",
    "    xlog = False,\n",
    "    )\n",
    "\n",
    "MainPlot._Plot.fill_between(\n",
    "    XAxisPoints,\n",
    "    NCP10L[XBounds],\n",
    "    NCP10H[XBounds],\n",
    "    color=\"blue\",\n",
    "    alpha=0.2,\n",
    "#     edgecolor='#1B2ACC',\n",
    "#     facecolor='#089FFF',\n",
    "    linewidth=1,\n",
    "#     linestyle='dashdot',\n",
    "    antialiased=True,\n",
    ")\n",
    "\n",
    "MainPlot._Plot.errorbar(\n",
    "    Protein,\n",
    "    Anisotropy25,\n",
    "    xerr = UProtein,\n",
    "    yerr = UAnisotropy,\n",
    "    marker='o',\n",
    "    linestyle = \"none\",\n",
    "    markersize = 3.0,\n",
    "    label=\"2.5 nM NCP\",\n",
    "    color=\"red\",\n",
    "    clip_on=False,\n",
    "#     alpha=0.5,\n",
    "    zorder=1,\n",
    "    )\n",
    "\n",
    "MainPlot._Plot.errorbar(\n",
    "    Protein,\n",
    "    Anisotropy10,\n",
    "    marker='D',\n",
    "    xerr = UProtein,\n",
    "    yerr = UAnisotropy,\n",
    "    markersize = 3.0,\n",
    "    linestyle = \"none\",\n",
    "    label=\"10  nM NCP\",\n",
    "    color=\"Blue\",\n",
    "    clip_on=False,\n",
    "#     alpha=0.5,\n",
    "    zorder=1,\n",
    "    )\n",
    "\n",
    "LegendAdjust = (15.0, -10.0)\n",
    "MainPlot.AddLegend(\n",
    "#     loc = \"best\",\n",
    "    loc = \"lower right\",\n",
    "#     loc = \"upper right\",\n",
    "    labelspacing = 0.5,\n",
    "    numpoints=1,\n",
    "    markerscale = 2.0,\n",
    "    )\n",
    "\n",
    "MainPlot.SetXRange(XLim[0],XLim[1])\n",
    "MainPlot.SetYRange(YLim[0],YLim[1])\n",
    "\n",
    "\n",
    "MainPlot.XLabel(XAxisLabel)\n",
    "MainPlot.YLabel(YAxisLabel)\n",
    "\n",
    "# MainPlot.ChangeYAxis(lambda x, p: format(x, '2.0e'))\n",
    "\n",
    "MainPlot._MainFig.show()\n",
    "MainPlot.SaveFig(ImgFileName,\n",
    "                 bbox_inches = 'tight',\n",
    "                 transparent=True\n",
    "                )\n",
    "MP1 = MainPlot"
   ]
  },
  {
   "cell_type": "code",
   "execution_count": 12,
   "metadata": {},
   "outputs": [],
   "source": [
    "# Function Based Example\n",
    "\n",
    "# Import Binding Funtions\n",
    "from Helpers.OneToOne import *\n",
    "\n",
    "N = 1e3\n",
    "XLim = [0.0, 120.0]\n",
    "YLim = [0.0, 1.0]\n",
    "\n",
    "XAxisPoints = np.linspace(XLim[0],XLim[1], N)\n",
    "\n",
    "# Generate Plot Data\n",
    "N  = np.array([States(10.0, CP, B1, B2)[1] for CP in XAxisPoints])/10.0\n",
    "NH = np.array([States(10.0, CP, B1-B1U, B2-B2U)[1] for CP in XAxisPoints])/10.0\n",
    "NL = np.array([States(10.0, CP, B1+B1U, B2+B2U)[1] for CP in XAxisPoints])/10.0\n",
    "PN  = np.array([States(10.0, CP, B1, B2)[2] for CP in XAxisPoints])/10.0\n",
    "PNH = np.array([States(10.0, CP, B1-B1U, B2-B2U)[2] for CP in XAxisPoints])/10.0\n",
    "PNL = np.array([States(10.0, CP, B1+B1U, B2+B2U)[2] for CP in XAxisPoints])/10.0\n",
    "PPN = np.array([States(10.0, CP, B1, B2)[3] for CP in XAxisPoints])/10.0\n",
    "PPNH= np.array([States(10.0, CP, B1-B1U, B2-B2U)[3] for CP in XAxisPoints])/10.0\n",
    "PPNL= np.array([States(10.0, CP, B1+B1U, B2+B2U)[3] for CP in XAxisPoints])/10.0"
   ]
  },
  {
   "cell_type": "code",
   "execution_count": 13,
   "metadata": {},
   "outputs": [],
   "source": [
    "# Figure Settings\n",
    "ImgFileName = 'Line_SpeciesFraction_vs_ISWI.pdf'\n",
    "XAxisLabel  = r'[ISWI]$_0$ (nM)'\n",
    "YAxisLabel  = r'Species Yield'\n",
    "\n",
    "XBounds = (XLim[0] <= XAxisPoints) & (XAxisPoints <= XLim[1])\n",
    "XAxisPoints = XAxisPoints[XBounds]"
   ]
  },
  {
   "cell_type": "code",
   "execution_count": 14,
   "metadata": {},
   "outputs": [],
   "source": [
    "MainPlot = MP.LinePlot(\n",
    "    Width=\"wide\",\n",
    "    YAxisInPercent = False,\n",
    "    subplot = 212,\n",
    "    PrimaryFig = MP1._MainFig,\n",
    "    )\n",
    "\n",
    "MainPlot.AddLine(\n",
    "    XAxisPoints,\n",
    "    N[XBounds],\n",
    "#     label=\"2.5 nM NCP\",\n",
    "    color=\"red\",\n",
    "    clip_on=False,\n",
    "    alpha=0.8,\n",
    "    zorder=1,\n",
    "    xlog = False,\n",
    "    label = 'N',\n",
    "    linewidth = 0.8,\n",
    "    )\n",
    "\n",
    "MainPlot._Plot.fill_between(\n",
    "    XAxisPoints,\n",
    "    NL[XBounds],\n",
    "    NH[XBounds],\n",
    "    color=\"red\",\n",
    "    alpha=0.2,\n",
    "#     edgecolor='#1B2ACC',\n",
    "#     facecolor='#089FFF',\n",
    "    linewidth=1,\n",
    "#     linestyle='dashdot',\n",
    "    antialiased=True,\n",
    ")\n",
    "\n",
    "MainPlot.AddLine(\n",
    "    XAxisPoints,\n",
    "    PN[XBounds],\n",
    "#     label=\"10 nM NCP\",\n",
    "    color=\"Blue\",\n",
    "    clip_on=False,\n",
    "    alpha=0.8,\n",
    "    zorder=1,\n",
    "    xlog = False,\n",
    "    label = 'PN',\n",
    "    linewidth = 0.8,\n",
    "    )\n",
    "\n",
    "MainPlot._Plot.fill_between(\n",
    "    XAxisPoints,\n",
    "    PNL[XBounds],\n",
    "    PNH[XBounds],\n",
    "    color=\"blue\",\n",
    "    alpha=0.2,\n",
    "#     edgecolor='#1B2ACC',\n",
    "#     facecolor='#089FFF',\n",
    "    linewidth=1,\n",
    "#     linestyle='dashdot',\n",
    "    antialiased=True,\n",
    ")\n",
    "\n",
    "MainPlot.AddLine(\n",
    "    XAxisPoints,\n",
    "    PPN[XBounds],\n",
    "#     label=\"10 nM NCP\",\n",
    "    color=\"darkorange\",\n",
    "    clip_on=False,\n",
    "    alpha=0.8,\n",
    "    zorder=0,\n",
    "    xlog = False,\n",
    "    label = 'PPN',\n",
    "    linewidth = 0.8,\n",
    "    )\n",
    "\n",
    "MainPlot._Plot.fill_between(\n",
    "    XAxisPoints,\n",
    "    PPNL[XBounds],\n",
    "    PPNH[XBounds],\n",
    "    color=\"darkorange\",\n",
    "    alpha=0.2,\n",
    "#     edgecolor='#1B2ACC',\n",
    "#     facecolor='#089FFF',\n",
    "    linewidth=1,\n",
    "#     linestyle='dashdot',\n",
    "    antialiased=True,\n",
    ")\n",
    "\n",
    "LegendAdjust = (15.0, -10.0)\n",
    "MainPlot.AddLegend(\n",
    "    loc = \"best\",\n",
    "#     loc = \"lower right\",\n",
    "#     loc = \"upper right\",\n",
    "    labelspacing = 0.5,\n",
    "    numpoints=1,\n",
    "    markerscale = 2.0,\n",
    "    )\n",
    "\n",
    "MainPlot.SetXRange(XLim[0],XLim[1])\n",
    "MainPlot.SetYRange(YLim[0],YLim[1])\n",
    "\n",
    "\n",
    "MainPlot.XLabel(XAxisLabel)\n",
    "MainPlot.YLabel(YAxisLabel)\n",
    "\n",
    "# MainPlot.ChangeYAxis(lambda x, p: format(x, '2.0e'))\n",
    "\n",
    "MainPlot._MainFig.show()\n",
    "MainPlot.SaveFig(ImgFileName,\n",
    "                 bbox_inches = 'tight',\n",
    "                 transparent=True\n",
    "                )"
   ]
  },
  {
   "cell_type": "code",
   "execution_count": null,
   "metadata": {},
   "outputs": [],
   "source": []
  }
 ],
 "metadata": {
  "kernelspec": {
   "display_name": "DataViewer27 Python 2.7.14",
   "language": "python",
   "name": "dataviewer27"
  },
  "language_info": {
   "codemirror_mode": {
    "name": "ipython",
    "version": 2
   },
   "file_extension": ".py",
   "mimetype": "text/x-python",
   "name": "python",
   "nbconvert_exporter": "python",
   "pygments_lexer": "ipython2",
   "version": "2.7.14"
  }
 },
 "nbformat": 4,
 "nbformat_minor": 2
}
