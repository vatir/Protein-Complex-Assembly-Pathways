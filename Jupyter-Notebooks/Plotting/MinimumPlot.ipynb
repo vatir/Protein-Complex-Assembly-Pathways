{
 "cells": [
  {
   "cell_type": "code",
   "execution_count": 1,
   "metadata": {},
   "outputs": [],
   "source": [
    "%load_ext autoreload\n",
    "%autoreload 2\n",
    "\n",
    "import sys\n",
    "import numpy as np"
   ]
  },
  {
   "cell_type": "code",
   "execution_count": 2,
   "metadata": {},
   "outputs": [
    {
     "name": "stdout",
     "output_type": "stream",
     "text": [
      "Available matplotlib backends: ['osx', 'qt4', 'qt5', 'gtk3', 'notebook', 'wx', 'qt', 'nbagg', 'gtk', 'tk', 'inline']\n"
     ]
    }
   ],
   "source": [
    "%matplotlib --list\n",
    "\n",
    "# import matplotlib\n",
    "# import matplotlib.pyplot as mpl\n",
    "# import matplotlib.ticker\n",
    "# import matplotlib.cm as cm\n",
    "\n",
    "import MPLGUI as MP\n",
    "# %matplotlib inline"
   ]
  },
  {
   "cell_type": "code",
   "execution_count": 3,
   "metadata": {},
   "outputs": [
    {
     "name": "stdout",
     "output_type": "stream",
     "text": [
      "/nfs/Data/Notebooks/Plotting\n"
     ]
    }
   ],
   "source": [
    "!pwd"
   ]
  },
  {
   "cell_type": "code",
   "execution_count": 4,
   "metadata": {},
   "outputs": [],
   "source": [
    "# Import Helpers\n",
    "from Helpers.General import *"
   ]
  },
  {
   "cell_type": "code",
   "execution_count": 5,
   "metadata": {},
   "outputs": [],
   "source": [
    "# Data loading example\n",
    "\n",
    "DataFolder = './FigureData'\n",
    "#DataFile = 'In Vitro - ContourData.npy'\n",
    "DataFile = 'FracVsConc - Frac - Stacked.npy'\n",
    "PlotData = np.load('{}/{}'.format(DataFolder, DataFile))"
   ]
  },
  {
   "cell_type": "code",
   "execution_count": 6,
   "metadata": {},
   "outputs": [],
   "source": [
    "# Function Based Example\n",
    "\n",
    "# Import Binding Funtions\n",
    "from Helpers.OneToOne import *\n",
    "\n",
    "# Setup Data for Plot\n",
    "TimePoints = LogTimePoints(-3,4)\n",
    "\n",
    "# Params\n",
    "Kd  = 1e-7\n",
    "A0  = 2e-6\n",
    "B0  = 1e-6\n",
    "kon = 1e6\n",
    "\n",
    "# Generate Plot Data\n",
    "OtO_A  = A_AB(Kd, A0, B0, kon, TimePoints)\n",
    "OtO_B  = B(Kd, A0, B0, kon, TimePoints)\n",
    "OtO_AB = AB(Kd, A0, B0, kon, TimePoints)"
   ]
  },
  {
   "cell_type": "code",
   "execution_count": 7,
   "metadata": {},
   "outputs": [],
   "source": [
    "# Figure Settings\n",
    "ImgFileName = 'Example_Line.pdf'\n",
    "Title       = 'Example Title'\n",
    "XAxisLabel  = 'X - Axis'\n",
    "YAxisLabel  = 'Y - Axis'\n",
    "XAxisPoints = TimePoints\n",
    "XLim = [1e-3, 1e2]\n",
    "\n",
    "XBounds = (XLim[0] <= XAxisPoints) & (XAxisPoints <= XLim[1])\n",
    "XAxisPoints = XAxisPoints[XBounds]"
   ]
  },
  {
   "cell_type": "code",
   "execution_count": 8,
   "metadata": {},
   "outputs": [
    {
     "name": "stderr",
     "output_type": "stream",
     "text": [
      "/home/vatir/anaconda3/envs/DataViewer27/lib/python2.7/site-packages/matplotlib/figure.py:397: UserWarning: matplotlib is currently using a non-GUI backend, so cannot show the figure\n",
      "  \"matplotlib is currently using a non-GUI backend, \"\n",
      "/home/vatir/anaconda3/envs/DataViewer27/lib/python2.7/site-packages/matplotlib/font_manager.py:1288: UserWarning: findfont: Font family [u'cursive'] not found. Falling back to Bitstream Vera Sans\n",
      "  (prop.get_family(), self.defaultFamily[fontext]))\n"
     ]
    },
    {
     "data": {
      "image/png": "[encoded data removed]",
      "text/plain": [
       "<matplotlib.figure.Figure at 0x7f3c40c32fd0>"
      ]
     },
     "metadata": {},
     "output_type": "display_data"
    }
   ],
   "source": [
    "MainPlot = MP.LinePlot(\n",
    "    Width=\"single\",\n",
    "    YAxisInPercent = False,\n",
    "    )\n",
    "\n",
    "MainPlot.AddLine(\n",
    "    XAxisPoints,\n",
    "    OtO_A[XBounds]/A0,\n",
    "    label=\"A\",\n",
    "    color=\"red\",\n",
    "    clip_on=False,\n",
    "#     alpha=0.5,\n",
    "    zorder=1\n",
    "    )\n",
    "MainPlot.AddLine(\n",
    "    XAxisPoints,\n",
    "    OtO_B[XBounds]/B0,\n",
    "    label=\"B\",\n",
    "    color=\"Blue\",\n",
    "    clip_on=False,\n",
    "#     alpha=0.5,\n",
    "    zorder=1\n",
    "    )\n",
    "MainPlot.AddLine(\n",
    "    XAxisPoints,\n",
    "    OtO_AB[XBounds]/np.min([A0,B0]),\n",
    "    label=\"AB\",\n",
    "    color=\"Orange\",\n",
    "    clip_on=False,\n",
    "#     alpha=0.5,\n",
    "    zorder=0\n",
    "    )\n",
    "\n",
    "LegendAdjust = (15.0, -10.0)\n",
    "MainPlot.AddLegend(\n",
    "    loc = \"best\",\n",
    "#     loc = \"lower right\",\n",
    "#     loc = \"upper right\",\n",
    "    labelspacing = 0.5\n",
    "    )\n",
    "\n",
    "MainPlot.SetXRange(XLim[0],XLim[1])\n",
    "\n",
    "\n",
    "MainPlot.XLabel(XAxisLabel)\n",
    "MainPlot.YLabel(YAxisLabel)\n",
    "\n",
    "# MainPlot.ChangeYAxis(lambda x, p: format(x, '2.0e'))\n",
    "\n",
    "MainPlot._MainFig.show()\n",
    "MainPlot.SaveFig(ImgFileName,\n",
    "                 bbox_inches = 'tight',\n",
    "                 transparent=True\n",
    "                )\n",
    "MP.mpl.show()"
   ]
  },
  {
   "cell_type": "code",
   "execution_count": 9,
   "metadata": {},
   "outputs": [],
   "source": [
    "# Figure Settings\n",
    "Title       = \"Yield of B\"\n",
    "ImgFileName = 'Contour-{}.pdf'.format(Title)\n",
    "# XAxisLabel  = \"[A{}] (M)\".format(r\"$\\ \\!_0$\")\n",
    "# YAxisLabel  = \"[B{}] (M)\".format(r\"$\\ \\!_0$\")\n",
    "XAxisLabel  = r\"$[A]_0\\ (M)$\"\n",
    "YAxisLabel  = r\"$[B]_0\\ (M)$\"\n",
    "\n",
    "# XAxisLabel  = 'X - Axis'\n",
    "# YAxisLabel  = 'Y - Axis'\n",
    "\n",
    "PointCount = 5e2\n",
    "XLim = [1e-9, 1e-3]\n",
    "YLim = [1e-9, 1e-3]\n",
    "XAxisPoints = np.logspace(np.log10(XLim[0]), np.log10(XLim[1]), PointCount)\n",
    "YAxisPoints = np.logspace(np.log10(YLim[0]), np.log10(YLim[1]), PointCount)"
   ]
  },
  {
   "cell_type": "code",
   "execution_count": 10,
   "metadata": {},
   "outputs": [],
   "source": [
    "# Function Based Example\n",
    "\n",
    "# Import Binding Funtions\n",
    "from Helpers.OneToOne import *\n",
    "\n",
    "# Params\n",
    "Kd  = 1e-6\n",
    "\n",
    "# Generate Plot Data\n",
    "A0 = XAxisPoints\n",
    "B0 = YAxisPoints\n",
    "ContourData = SS_B_AB(Kd, A0, B0, X_Y_Axes=(\"A0\",\"B0\"), Normalized = True)"
   ]
  },
  {
   "cell_type": "code",
   "execution_count": 11,
   "metadata": {},
   "outputs": [
    {
     "data": {
      "image/png": "[encoded data removed]",
      "text/plain": [
       "<matplotlib.figure.Figure at 0x7f3c3e1ee150>"
      ]
     },
     "metadata": {},
     "output_type": "display_data"
    }
   ],
   "source": [
    "ZLim = [np.min(ContourData), np.max(ContourData)]\n",
    "\n",
    "ContourLevels = [\n",
    "        0.20,\n",
    "        0.40,\n",
    "        0.60,\n",
    "        0.80,\n",
    "#         0.60,\n",
    "#         0.63,\n",
    "#         0.65,\n",
    "        ]\n",
    "\n",
    "Settings = {\"hpad\": 0.3, \"wpad\": 0.3, \"FontSize\": 11, \"ShowNormLine\":False}\n",
    "import matplotlib.gridspec as gridspec\n",
    "gs1 = gridspec.GridSpec(nrows=2, ncols=2)#, left=0.05, right=0.48, wspace=0.05)\n",
    "\n",
    "OverallMainPlot = MP.MPLGPU(\n",
    "    Blank=True,\n",
    "#     hpad=0.1,\n",
    "#     wpad=0.1,\n",
    "#     FontSize = FontSize,\n",
    "    Width=MP.inches2mm(6.5),\n",
    "    subplot=221,\n",
    "#     axes_aspect=\"equal\",\n",
    "    Aspect=16.0/12.0,\n",
    "    axes_aspect=16.0/12.0,\n",
    "#     rasterized=True,\n",
    "    **Settings\n",
    ")\n",
    "Width = MP.inches2mm(3.25)\n",
    "FontSize = 11\n",
    "Aspect=1.0\n",
    "ShiftRight = 0.0\n",
    "hpad=0.3\n",
    "wpad=0.3\n",
    "axes_aspect=\"equal\"\n",
    "ShiftRight = 0.025\n",
    "\n",
    "MainPlot = MP.ContourPlot(\n",
    "    Width=Width,\n",
    "    PrimaryFig=OverallMainPlot._MainFig,\n",
    "    subplot=gs1[0,0],\n",
    "    Aspect=Aspect,\n",
    "    hpad = hpad,\n",
    "    wpad = wpad,\n",
    "    axes_aspect=axes_aspect,\n",
    ")\n",
    "\n",
    "# MainPlot = MP.ContourPlot(\n",
    "#     Width=\"single\",\n",
    "# #     latex = False\n",
    "#     )\n",
    "\n",
    "MainPlot.SetXRange(XLim[0],XLim[1])\n",
    "MainPlot.SetYRange(YLim[0],YLim[1])\n",
    "\n",
    "XTicks = MainPlot._Plot.xaxis.get_major_ticks()\n",
    "YTicks = MainPlot._Plot.yaxis.get_major_ticks()\n",
    "\n",
    "for Index in np.arange(0, len(XTicks),2):\n",
    "    XTicks[Index].label1On = \"\"\n",
    "    YTicks[Index].label1On = \"\"\n",
    "\n",
    "ColorMap = MP.mpl.cm.gray_r\n",
    "# ColorMap = cm.gray_r\n",
    "ColorMap.set_bad('red',1.)\n",
    "\n",
    "ContourImage = MainPlot._Plot.pcolormesh(\n",
    "    XAxisPoints,\n",
    "    YAxisPoints,\n",
    "    ContourData,\n",
    "    cmap=ColorMap,\n",
    "    shading = 'gouraud',\n",
    "#     rasterized = True,\n",
    "    vmin=ZLim[0],\n",
    "    vmax=ZLim[1]\n",
    ")\n",
    "\n",
    "ContourImage.autoscale()\n",
    "\n",
    "CLs = ContourLines =  MainPlot._Plot.contour(\n",
    "    XAxisPoints,\n",
    "    YAxisPoints,\n",
    "    ContourData,\n",
    "    ContourLevels,\n",
    "    origin='lower',\n",
    "    linewidths=2.0,\n",
    "    colors=(\n",
    "        'red',\n",
    "        'blue',\n",
    "        'green',\n",
    "        'purple',\n",
    "    )\n",
    ")\n",
    "\n",
    "# MainPlot._Plot.clabel(\n",
    "#     ContourLines,\n",
    "#     ContourLevels,\n",
    "#     inline=True,\n",
    "#     fmt='%.1f',\n",
    "#     fontsize=7,\n",
    "#     orientation='horizontal',\n",
    "#     rightside_up = True,\n",
    "#     inline_spacing = 30.0,\n",
    "# )\n",
    "\n",
    "Colorbar = MP.mpl.colorbar(\n",
    "    ContourImage,\n",
    "#     ticklocation = [],\n",
    "    ticks = [ZLim[0],ZLim[1]]+ContourLevels,\n",
    "    format = '%1.1f',\n",
    "    drawedges = False,\n",
    "    orientation = 'vertical',\n",
    "#     shrink=0.8,\n",
    "#     extend='neither'\n",
    ")\n",
    "\n",
    "# MainPlot._Plot.tick_params(\n",
    "#         which = 'major',\n",
    "#         pad = 1.5, # How far are the labels from the mark\n",
    "#     )\n",
    "MainPlot._Plot.tick_params(\n",
    "        which = 'major',\n",
    "        labelsize=FontSize*0.8,\n",
    "        pad = 1.5, # How far are the labels from the mark\n",
    ")\n",
    "\n",
    "Colorbar.ax.tick_params(which='both',length=0, labelsize=FontSize*0.8)\n",
    "\n",
    "# Colorbar.ax.tick_params(which='both',length=0)\n",
    "# Colorbar.ax.set_xticks([ZLim[0],ZLim[1]]+ContourLevels)\n",
    "Colorbar.add_lines(CLs)\n",
    "# Colorbar.set_ticks(ContourLevels)\n",
    "Colorbar.update_ticks()\n",
    "\n",
    "Colorbar.ax.set_position(np.array(Colorbar.ax.get_position().bounds) + [ShiftRight,0.0,0,0])\n",
    "MainPlot._Plot.set_position(np.array(MainPlot._Plot.get_position().bounds) + [ShiftRight,0.0,0,0])\n",
    "\n",
    "MainPlot._Plot.set_title(Title)\n",
    "MainPlot.XLabel(XAxisLabel)\n",
    "MainPlot.YLabel(YAxisLabel)\n",
    "\n",
    "MainPlot._MainFig.show()\n",
    "MainPlot.SaveFig(ImgFileName,\n",
    "                 bbox_inches = 'tight',\n",
    "                 transparent=True\n",
    "                )\n",
    "\n",
    "# MainPlot.DisallowLatex()\n",
    "MP.mpl.show()"
   ]
  },
  {
   "cell_type": "code",
   "execution_count": 12,
   "metadata": {},
   "outputs": [
    {
     "data": {
      "text/markdown": [
       "matplotlib documentation for this version: https://matplotlib.org/1.5.3/"
      ],
      "text/plain": [
       "<IPython.core.display.Markdown object>"
      ]
     },
     "execution_count": 12,
     "metadata": {},
     "output_type": "execute_result"
    }
   ],
   "source": [
    "from IPython.display import Markdown as md\n",
    "\n",
    "md(\"matplotlib documentation for this version: https://matplotlib.org/{}/\".format(MP.matplotlib.__version__))"
   ]
  },
  {
   "cell_type": "code",
   "execution_count": null,
   "metadata": {},
   "outputs": [],
   "source": [
    " "
   ]
  },
  {
   "cell_type": "code",
   "execution_count": 13,
   "metadata": {},
   "outputs": [
    {
     "data": {
      "text/plain": [
       "u'Tahoma'"
      ]
     },
     "execution_count": 13,
     "metadata": {},
     "output_type": "execute_result"
    }
   ],
   "source": [
    "MP.FontInstance.get_name()"
   ]
  },
  {
   "cell_type": "code",
   "execution_count": 14,
   "metadata": {},
   "outputs": [
    {
     "data": {
      "text/plain": [
       "[u'sans-serif']"
      ]
     },
     "execution_count": 14,
     "metadata": {},
     "output_type": "execute_result"
    }
   ],
   "source": [
    "MP.FontInstance.get_family()"
   ]
  },
  {
   "cell_type": "code",
   "execution_count": 15,
   "metadata": {},
   "outputs": [
    {
     "data": {
      "text/plain": [
       "False"
      ]
     },
     "execution_count": 15,
     "metadata": {},
     "output_type": "execute_result"
    }
   ],
   "source": [
    "MP.matplotlib.rcParams['text.usetex']"
   ]
  },
  {
   "cell_type": "code",
   "execution_count": null,
   "metadata": {},
   "outputs": [],
   "source": []
  },
  {
   "cell_type": "code",
   "execution_count": null,
   "metadata": {},
   "outputs": [],
   "source": []
  }
 ],
 "metadata": {
  "kernelspec": {
   "display_name": "DataViewer27 Python 2.7.14",
   "language": "python",
   "name": "dataviewer27"
  },
  "language_info": {
   "codemirror_mode": {
    "name": "ipython",
    "version": 2
   },
   "file_extension": ".py",
   "mimetype": "text/x-python",
   "name": "python",
   "nbconvert_exporter": "python",
   "pygments_lexer": "ipython2",
   "version": "2.7.14"
  }
 },
 "nbformat": 4,
 "nbformat_minor": 2
}
