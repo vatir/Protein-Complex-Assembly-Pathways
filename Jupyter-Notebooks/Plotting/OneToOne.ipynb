{
 "cells": [
  {
   "cell_type": "code",
   "execution_count": 1,
   "metadata": {},
   "outputs": [],
   "source": [
    "%load_ext autoreload\n",
    "%autoreload 2\n",
    "\n",
    "import sys\n",
    "import numpy as np"
   ]
  },
  {
   "cell_type": "code",
   "execution_count": 2,
   "metadata": {},
   "outputs": [
    {
     "name": "stdout",
     "output_type": "stream",
     "text": [
      "Available matplotlib backends: ['osx', 'qt4', 'qt5', 'gtk3', 'notebook', 'wx', 'qt', 'nbagg', 'gtk', 'tk', 'inline']\n"
     ]
    }
   ],
   "source": [
    "%matplotlib --list\n",
    "\n",
    "# import matplotlib\n",
    "# import matplotlib.pyplot as mpl\n",
    "# import matplotlib.ticker\n",
    "# import matplotlib.cm as cm\n",
    "\n",
    "import MPLGUI as MP\n",
    "%matplotlib inline"
   ]
  },
  {
   "cell_type": "code",
   "execution_count": 3,
   "metadata": {},
   "outputs": [
    {
     "name": "stdout",
     "output_type": "stream",
     "text": [
      "/nfs/Data/Notebooks/Plotting\n"
     ]
    }
   ],
   "source": [
    "!pwd"
   ]
  },
  {
   "cell_type": "code",
   "execution_count": 4,
   "metadata": {},
   "outputs": [],
   "source": [
    "# Import Helpers\n",
    "from Helpers.General import *"
   ]
  },
  {
   "cell_type": "code",
   "execution_count": 5,
   "metadata": {},
   "outputs": [],
   "source": [
    "# Function Based Example\n",
    "\n",
    "# Import Binding Funtions\n",
    "from Helpers.OneToOne import *\n",
    "\n",
    "# Setup Data for Plot\n",
    "TimePoints = LogTimePoints(-3,2)\n",
    "\n",
    "# Params\n",
    "Kd  = 1e-7\n",
    "A0  = 2e-6\n",
    "B0  = 1e-6\n",
    "kon = 1e6\n",
    "\n",
    "# Generate Plot Data\n",
    "OtO_A  = A_AB(Kd, A0, B0, kon, TimePoints)\n",
    "OtO_B  = B(Kd, A0, B0, kon, TimePoints)\n",
    "OtO_AB = AB(Kd, A0, B0, kon, TimePoints)"
   ]
  },
  {
   "cell_type": "code",
   "execution_count": 6,
   "metadata": {},
   "outputs": [
    {
     "name": "stdout",
     "output_type": "stream",
     "text": [
      "Koff: 1.00e-01\n"
     ]
    }
   ],
   "source": [
    "print(\"Koff: {:.2e}\".format(Kd*kon))"
   ]
  },
  {
   "cell_type": "code",
   "execution_count": 7,
   "metadata": {},
   "outputs": [],
   "source": [
    "# Figure Settings\n",
    "ImgFileName = 'Line_SpeciesYield_A_B_Time.pdf'\n",
    "# Title       = 'Example Title'\n",
    "XAxisLabel  = 'Time (s)'\n",
    "YAxisLabel  = 'Species Yield'\n",
    "XAxisPoints = TimePoints\n",
    "XLimTime = [np.min(TimePoints),np.max(TimePoints)]\n",
    "XLim = XLimTime\n",
    "\n",
    "XBounds = (XLim[0] <= XAxisPoints) & (XAxisPoints <= XLim[-1])\n",
    "XAxisPoints = XAxisPoints[XBounds]"
   ]
  },
  {
   "cell_type": "code",
   "execution_count": 8,
   "metadata": {},
   "outputs": [
    {
     "name": "stderr",
     "output_type": "stream",
     "text": [
      "/home/vatir/anaconda3/envs/DataViewer27/lib/python2.7/site-packages/matplotlib/font_manager.py:1288: UserWarning: findfont: Font family [u'cursive'] not found. Falling back to Bitstream Vera Sans\n",
      "  (prop.get_family(), self.defaultFamily[fontext]))\n"
     ]
    },
    {
     "data": {
      "image/png": "[encoded data removed]",
      "text/plain": [
       "<matplotlib.figure.Figure at 0x7f2fd8db3e90>"
      ]
     },
     "metadata": {},
     "output_type": "display_data"
    }
   ],
   "source": [
    "MainPlot = MP.LinePlot(\n",
    "    Width=\"single\",\n",
    "    YAxisInPercent = False,\n",
    "    subplot=221\n",
    "    );\n",
    "\n",
    "MainPlot.AddLine(\n",
    "    XAxisPoints,\n",
    "    OtO_A[XBounds]/A0,\n",
    "    label=\"A\",\n",
    "    color=\"red\",\n",
    "    clip_on=False,\n",
    "#     alpha=0.5,\n",
    "    zorder=1\n",
    "    )\n",
    "MainPlot.AddLine(\n",
    "    XAxisPoints,\n",
    "    OtO_B[XBounds]/B0,\n",
    "    label=\"B\",\n",
    "    color=\"Blue\",\n",
    "    clip_on=False,\n",
    "#     alpha=0.5,\n",
    "    zorder=1\n",
    "    )\n",
    "MainPlot.AddLine(\n",
    "    XAxisPoints,\n",
    "    OtO_AB[XBounds]/np.min([A0,B0]),\n",
    "    label=\"AB\",\n",
    "    color=\"Green\",\n",
    "    clip_on=False,\n",
    "#     alpha=0.5,\n",
    "    zorder=0\n",
    "    )\n",
    "\n",
    "LegendAdjust = (15.0, -10.0)\n",
    "MainPlot.AddLegend(\n",
    "    loc = \"best\",\n",
    "#     loc = \"lower right\",\n",
    "#     loc = \"upper right\",\n",
    "    labelspacing = 0.5\n",
    "    )\n",
    "\n",
    "MainPlot.SetXRange(XLim[0],XLim[1])\n",
    "\n",
    "\n",
    "MainPlot.XLabel(XAxisLabel)\n",
    "MainPlot.YLabel(YAxisLabel)\n",
    "\n",
    "# MainPlot.ChangeYAxis(lambda x, p: format(x, '2.0e'))\n",
    "\n",
    "# MainPlot._MainFig.show()\n",
    "# MainPlot.SaveFig(ImgFileName,\n",
    "#                  bbox_inches = 'tight',\n",
    "#                  transparent=True\n",
    "#                 )"
   ]
  },
  {
   "cell_type": "code",
   "execution_count": 9,
   "metadata": {},
   "outputs": [],
   "source": [
    "# Function Based Example\n",
    "\n",
    "# Import Binding Funtions\n",
    "from Helpers.OneToOne import *\n",
    "\n",
    "# Setup Data for Plot\n",
    "Kd = LogTimePoints(-9,-3)[::-1]\n",
    "\n",
    "# Params\n",
    "# Kd  = 1e-7\n",
    "A0  = 2e-6\n",
    "B0  = 1e-6\n",
    "kon = 1e6\n",
    "\n",
    "# Generate Plot Data\n",
    "OtO_A_SS  = SS_A_AB(Kd, A0, B0)\n",
    "OtO_B_SS  = SS_B_AB(Kd, A0, B0)\n",
    "OtO_AB_SS = SS_AB(Kd, A0, B0)"
   ]
  },
  {
   "cell_type": "code",
   "execution_count": 10,
   "metadata": {},
   "outputs": [],
   "source": [
    "# Figure Settings\n",
    "# ImgFileName = 'Line_SpeciesYield_A_B_Kd.pdf'\n",
    "# Title       = 'Example Title'\n",
    "XAxisLabel  = '$K_d$ (M)'\n",
    "YAxisLabel  = 'Species Yield'\n",
    "XAxisPoints = Kd\n",
    "XLim = [np.max(XAxisPoints), np.min(XAxisPoints)]\n",
    "\n",
    "XBounds = (XLim[0] >= XAxisPoints) & (XAxisPoints >= XLim[1])\n",
    "XAxisPoints = XAxisPoints[XBounds]"
   ]
  },
  {
   "cell_type": "code",
   "execution_count": 11,
   "metadata": {},
   "outputs": [],
   "source": [
    "MainPlot = MP.LinePlot(\n",
    "    Width=\"single\",\n",
    "    YAxisInPercent = False,\n",
    "    subplot=222,\n",
    "    PrimaryFig = MainPlot._MainFig\n",
    "    )\n",
    "\n",
    "MainPlot.AddLine(\n",
    "    XAxisPoints,\n",
    "    OtO_A_SS[XBounds]/A0,\n",
    "    label=\"A\",\n",
    "    color=\"red\",\n",
    "    clip_on=False,\n",
    "#     alpha=0.5,\n",
    "    zorder=1\n",
    "    )\n",
    "MainPlot.AddLine(\n",
    "    XAxisPoints,\n",
    "    OtO_B_SS[XBounds]/B0,\n",
    "    label=\"B\",\n",
    "    color=\"Blue\",\n",
    "    clip_on=False,\n",
    "#     alpha=0.5,\n",
    "    zorder=1\n",
    "    )\n",
    "MainPlot.AddLine(\n",
    "    XAxisPoints,\n",
    "    OtO_AB_SS[XBounds]/np.min([A0,B0]),\n",
    "    label=\"AB\",\n",
    "    color=\"Green\",\n",
    "    clip_on=False,\n",
    "#     alpha=0.5,\n",
    "    zorder=0\n",
    "    )\n",
    "\n",
    "LegendAdjust = (15.0, -10.0)\n",
    "MainPlot.AddLegend(\n",
    "    loc = \"best\",\n",
    "#     loc = \"lower right\",\n",
    "#     loc = \"upper right\",\n",
    "    labelspacing = 0.5\n",
    "    )\n",
    "\n",
    "MainPlot.SetXRange(XLim[0],XLim[1])\n",
    "\n",
    "\n",
    "MainPlot.XLabel(XAxisLabel)\n",
    "MainPlot.YLabel(YAxisLabel)\n",
    "\n",
    "# MainPlot.ChangeYAxis(lambda x, p: format(x, '2.0e'))\n",
    "\n",
    "# MainPlot._MainFig.show()\n",
    "# MainPlot.SaveFig(ImgFileName,\n",
    "#                  bbox_inches = 'tight',\n",
    "#                  transparent=True\n",
    "#                 )"
   ]
  },
  {
   "cell_type": "code",
   "execution_count": 12,
   "metadata": {},
   "outputs": [],
   "source": [
    "# Function Based Example\n",
    "\n",
    "# Import Binding Funtions\n",
    "from Helpers.OneToOne import *\n",
    "\n",
    "# Setup Data for Plot\n",
    "TimePoints = LogTimePoints(-3,4)\n",
    "\n",
    "# Params\n",
    "Kd  = 1e-7\n",
    "A0  = 2e-6\n",
    "B0  = 1e-6\n",
    "kon = 1e6\n",
    "\n",
    "# Generate Plot Data\n",
    "OtO_A  = A(Kd, A0, kon, TimePoints)\n",
    "OtO_AA = AA(Kd, A0, kon, TimePoints)"
   ]
  },
  {
   "cell_type": "code",
   "execution_count": 13,
   "metadata": {},
   "outputs": [],
   "source": [
    "# Figure Settings\n",
    "# ImgFileName = 'Line_SpeciesYield_A_B_Time.pdf'\n",
    "# Title       = 'Example Title'\n",
    "XAxisLabel  = 'Time (s)'\n",
    "YAxisLabel  = 'Species Yield'\n",
    "XAxisPoints = TimePoints\n",
    "XLim = XLimTime\n",
    "\n",
    "XBounds = (XLim[0] <= XAxisPoints) & (XAxisPoints <= XLim[1])\n",
    "XAxisPoints = XAxisPoints[XBounds]"
   ]
  },
  {
   "cell_type": "code",
   "execution_count": 14,
   "metadata": {},
   "outputs": [],
   "source": [
    "MainPlot = MP.LinePlot(\n",
    "    Width=\"single\",\n",
    "    YAxisInPercent = False,\n",
    "    subplot=223,\n",
    "    PrimaryFig = MainPlot._MainFig\n",
    "    );\n",
    "\n",
    "MainPlot.AddLine(\n",
    "    XAxisPoints,\n",
    "    OtO_A[XBounds]/A0,\n",
    "    label=\"A\",\n",
    "    color=\"red\",\n",
    "    clip_on=False,\n",
    "#     alpha=0.5,\n",
    "    zorder=1\n",
    "    )\n",
    "MainPlot.AddLine(\n",
    "    XAxisPoints,\n",
    "    OtO_AA[XBounds]/(0.5*A0),\n",
    "    label=\"AA\",\n",
    "    color=\"Green\",\n",
    "    clip_on=False,\n",
    "#     alpha=0.5,\n",
    "    zorder=1\n",
    "    )\n",
    "\n",
    "# LegendAdjust = (15.0, -10.0)\n",
    "MainPlot.AddLegend(\n",
    "    loc = \"center left\",\n",
    "#     loc = \"lower right\",\n",
    "#     loc = \"upper right\",\n",
    "    labelspacing = 0.5\n",
    "    )\n",
    "\n",
    "MainPlot.SetXRange(XLim[0],XLim[1])\n",
    "\n",
    "\n",
    "MainPlot.XLabel(XAxisLabel)\n",
    "MainPlot.YLabel(YAxisLabel)\n",
    "\n",
    "# MainPlot.ChangeYAxis(lambda x, p: format(x, '2.0e'))\n",
    "\n",
    "# MainPlot._MainFig.show()\n",
    "# MainPlot.SaveFig(ImgFileName,\n",
    "#                  bbox_inches = 'tight',\n",
    "#                  transparent=True\n",
    "#                 )"
   ]
  },
  {
   "cell_type": "code",
   "execution_count": 15,
   "metadata": {},
   "outputs": [],
   "source": [
    "# Function Based Example\n",
    "\n",
    "# Import Binding Funtions\n",
    "from Helpers.OneToOne import *\n",
    "\n",
    "# Setup Data for Plot\n",
    "Kd = LogTimePoints(-9,-3)[::-1]\n",
    "\n",
    "# Params\n",
    "# Kd  = 1e-7\n",
    "A0  = 2e-6\n",
    "# B0  = 1e-6\n",
    "# kon = 1e6\n",
    "\n",
    "# Generate Plot Data\n",
    "OtO_A_SS  = SS_A(Kd, A0)\n",
    "OtO_AA_SS = SS_AA(Kd, A0)"
   ]
  },
  {
   "cell_type": "code",
   "execution_count": 16,
   "metadata": {},
   "outputs": [],
   "source": [
    "# Figure Settings\n",
    "ImgFileName = 'Line_SpeciesYield_AB_AA.pdf'\n",
    "# Title       = 'Example Title'\n",
    "XAxisLabel  = '$K_d$ (M)'\n",
    "YAxisLabel  = 'Species Yield'\n",
    "XAxisPoints = Kd\n",
    "XLim = [np.max(XAxisPoints), np.min(XAxisPoints)]\n",
    "\n",
    "XBounds = (XLim[0] >= XAxisPoints) & (XAxisPoints >= XLim[1])\n",
    "XAxisPoints = XAxisPoints[XBounds]"
   ]
  },
  {
   "cell_type": "code",
   "execution_count": 17,
   "metadata": {},
   "outputs": [
    {
     "name": "stderr",
     "output_type": "stream",
     "text": [
      "/home/vatir/anaconda3/envs/DataViewer27/lib/python2.7/site-packages/matplotlib/figure.py:397: UserWarning: matplotlib is currently using a non-GUI backend, so cannot show the figure\n",
      "  \"matplotlib is currently using a non-GUI backend, \"\n"
     ]
    }
   ],
   "source": [
    "MainPlot = MP.LinePlot(\n",
    "    Width=\"single\",\n",
    "    YAxisInPercent = False,\n",
    "    subplot=224,\n",
    "    PrimaryFig = MainPlot._MainFig\n",
    "    )\n",
    "\n",
    "MainPlot.AddLine(\n",
    "    XAxisPoints,\n",
    "    OtO_A_SS[XBounds]/A0,\n",
    "    label=\"A\",\n",
    "    color=\"red\",\n",
    "    clip_on=False,\n",
    "#     alpha=0.5,\n",
    "    zorder=1\n",
    "    )\n",
    "MainPlot.AddLine(\n",
    "    XAxisPoints,\n",
    "    OtO_AA_SS[XBounds]/(0.5*A0),\n",
    "    label=\"AA\",\n",
    "    color=\"Green\",\n",
    "    clip_on=False,\n",
    "#     alpha=0.5,\n",
    "    zorder=1\n",
    "    )\n",
    "# MainPlot.AddLine(\n",
    "#     XAxisPoints,\n",
    "#     OtO_AB_SS[XBounds]/np.min([A0,B0]),\n",
    "#     label=\"AB\",\n",
    "#     color=\"Green\",\n",
    "#     clip_on=False,\n",
    "# #     alpha=0.5,\n",
    "#     zorder=0\n",
    "#     )\n",
    "\n",
    "# LegendAdjust = (15.0, -10.0)\n",
    "MainPlot.AddLegend(\n",
    "    loc = \"center left\",\n",
    "#     loc = \"lower right\",\n",
    "#     loc = \"upper right\",\n",
    "    labelspacing = 0.5\n",
    "    )\n",
    "\n",
    "MainPlot.SetXRange(XLim[0],XLim[1])\n",
    "\n",
    "\n",
    "MainPlot.XLabel(XAxisLabel)\n",
    "MainPlot.YLabel(YAxisLabel)\n",
    "\n",
    "# MainPlot.ChangeYAxis(lambda x, p: format(x, '2.0e'))\n",
    "\n",
    "MainPlot._MainFig.show()\n",
    "MainPlot.SaveFig(ImgFileName,\n",
    "                 bbox_inches = 'tight',\n",
    "                 transparent=True\n",
    "                )"
   ]
  },
  {
   "cell_type": "code",
   "execution_count": 18,
   "metadata": {},
   "outputs": [
    {
     "name": "stdout",
     "output_type": "stream",
     "text": [
      "[  2.50000000e-07]\n",
      "[  5.00000000e-07]\n",
      "[  3.81966011e-07]\n",
      "[  6.18033989e-07]\n",
      "[  6.18033989e-07]\n"
     ]
    }
   ],
   "source": [
    "print SS_AA(1e-6, 1e-6)\n",
    "print SS_A(1e-6, 1e-6)\n",
    "print SS_AB(1e-6, 1e-6, 1e-6)\n",
    "print SS_A_AB(1e-6, 1e-6, 1e-6)\n",
    "print SS_B_AB(1e-6, 1e-6, 1e-6)"
   ]
  },
  {
   "cell_type": "code",
   "execution_count": 19,
   "metadata": {},
   "outputs": [
    {
     "data": {
      "text/plain": [
       "3.090169945e-07"
      ]
     },
     "execution_count": 19,
     "metadata": {},
     "output_type": "execute_result"
    }
   ],
   "source": [
    "6.18033989e-07/2.0"
   ]
  },
  {
   "cell_type": "code",
   "execution_count": 20,
   "metadata": {},
   "outputs": [
    {
     "data": {
      "text/plain": [
       "array([  1.99999690e-12])"
      ]
     },
     "execution_count": 20,
     "metadata": {},
     "output_type": "execute_result"
    }
   ],
   "source": [
    "AB(1e-7, A0, B0, kon, 1e-6)"
   ]
  },
  {
   "cell_type": "code",
   "execution_count": 21,
   "metadata": {},
   "outputs": [
    {
     "name": "stdout",
     "output_type": "stream",
     "text": [
      "[  3.81966011e-07]\n",
      "[  6.18033989e-07]\n",
      "[  6.18033989e-07]\n"
     ]
    }
   ],
   "source": [
    "print AB(1e-6, 1e-6, 1e-6,1e6,1e6)\n",
    "print A_AB(1e-6, 1e-6, 1e-6,1e6,1e6)\n",
    "print B(1e-6, 1e-6, 1e-6,1e6,1e6)"
   ]
  },
  {
   "cell_type": "code",
   "execution_count": 22,
   "metadata": {},
   "outputs": [
    {
     "data": {
      "text/plain": [
       "0.3819660112501051"
      ]
     },
     "execution_count": 22,
     "metadata": {},
     "output_type": "execute_result"
    }
   ],
   "source": [
    "(3-5**0.5)/2"
   ]
  },
  {
   "cell_type": "code",
   "execution_count": null,
   "metadata": {},
   "outputs": [],
   "source": []
  },
  {
   "cell_type": "code",
   "execution_count": 23,
   "metadata": {},
   "outputs": [],
   "source": [
    "# Function Based Example\n",
    "\n",
    "# Import Binding Funtions\n",
    "from Helpers.OneToOne import *\n",
    "\n",
    "# Setup Data for Plot\n",
    "TimePoints = LogTimePoints(-3,4)\n",
    "\n",
    "# Params\n",
    "Kd  = 1e-7\n",
    "A0_AA  = 1e-6/2.0\n",
    "A0  = 1e-6\n",
    "B0  = 1e-6\n",
    "kon = 1e6\n",
    "\n",
    "# Generate Plot Data\n",
    "OtO_AB  = AB(Kd, A0, B0, kon, TimePoints)\n",
    "OtO_A_AB  = A_AB(Kd, A0, B0, kon, TimePoints)\n",
    "OtO_B_AB = B(Kd, A0, B0, kon, TimePoints)\n",
    "OtO_A  = A(Kd, A0_AA, kon, TimePoints)\n",
    "OtO_AA = AA(Kd, A0_AA, kon, TimePoints)"
   ]
  },
  {
   "cell_type": "code",
   "execution_count": 24,
   "metadata": {},
   "outputs": [],
   "source": [
    "# Figure Settings\n",
    "ImgFileName = 'Line_SpeciesYield_AA_Comp_AB.pdf'\n",
    "# Title       = 'Example Title'\n",
    "XAxisLabel  = 'Time (s)'\n",
    "YAxisLabel  = 'Species Yield'\n",
    "XAxisPoints = TimePoints\n",
    "XLim = XLimTime\n",
    "\n",
    "XBounds = (XLim[0] <= XAxisPoints) & (XAxisPoints <= XLim[1])\n",
    "XAxisPoints = XAxisPoints[XBounds]"
   ]
  },
  {
   "cell_type": "code",
   "execution_count": 25,
   "metadata": {},
   "outputs": [
    {
     "data": {
      "image/png": "[encoded data removed]",
      "text/plain": [
       "<matplotlib.figure.Figure at 0x7f2fd49132d0>"
      ]
     },
     "metadata": {},
     "output_type": "display_data"
    }
   ],
   "source": [
    "MainPlot = MP.LinePlot(\n",
    "    Width=\"single\",\n",
    "    YAxisInPercent = False,\n",
    "    subplot=211,\n",
    "    );\n",
    "\n",
    "MainPlot.AddLine(\n",
    "    XAxisPoints,\n",
    "    OtO_A[XBounds]/A0_AA,\n",
    "    label=\"A\",\n",
    "    color=\"red\",\n",
    "    clip_on=False,\n",
    "    alpha=0.5,\n",
    "    zorder=1\n",
    "    )\n",
    "MainPlot.AddLine(\n",
    "    XAxisPoints,\n",
    "    OtO_AA[XBounds]/(0.5*A0_AA),\n",
    "    label=\"AA\",\n",
    "    color=\"Green\",\n",
    "    clip_on=False,\n",
    "    alpha=0.5,\n",
    "    zorder=1\n",
    "    )\n",
    "# MainPlot.AddLine(\n",
    "#     XAxisPoints,\n",
    "#     OtO_AB[XBounds]/np.min([A0,B0]),\n",
    "#     label=\"AB\",\n",
    "#     color=\"blue\",\n",
    "#     clip_on=False,\n",
    "#     alpha=0.5,\n",
    "#     zorder=1\n",
    "#     )\n",
    "# MainPlot.AddLine(\n",
    "#     XAxisPoints,\n",
    "#     OtO_A_AB[XBounds]/(A0),\n",
    "#     label=\"A\",\n",
    "#     color=\"orange\",\n",
    "#     clip_on=False,\n",
    "#     alpha=0.5,\n",
    "#     zorder=1\n",
    "#     )\n",
    "# MainPlot.AddLine(\n",
    "#     XAxisPoints,\n",
    "#     OtO_B_AB[XBounds]/(B0),\n",
    "#     label=\"B\",\n",
    "#     color=\"yellow\",\n",
    "#     clip_on=False,\n",
    "#     alpha=0.5,\n",
    "#     zorder=1\n",
    "#     )\n",
    "# LegendAdjust = (15.0, -10.0)\n",
    "MainPlot.AddLegend(\n",
    "    loc = \"center left\",\n",
    "#     loc = \"lower right\",\n",
    "#     loc = \"upper right\",\n",
    "    labelspacing = 0.5\n",
    "    )\n",
    "\n",
    "MainPlot.SetXRange(XLim[0],XLim[1])\n",
    "\n",
    "\n",
    "MainPlot.XLabel(XAxisLabel)\n",
    "MainPlot.YLabel(YAxisLabel)\n",
    "\n",
    "# MainPlot.ChangeYAxis(lambda x, p: format(x, '2.0e'))\n",
    "\n",
    "MainPlot._MainFig.show()\n",
    "MainPlot.SaveFig(ImgFileName,\n",
    "                 bbox_inches = 'tight',\n",
    "                 transparent=True\n",
    "                )"
   ]
  },
  {
   "cell_type": "code",
   "execution_count": 26,
   "metadata": {},
   "outputs": [],
   "source": [
    "# Function Based Example\n",
    "\n",
    "# Import Binding Funtions\n",
    "from Helpers.OneToOne import *\n",
    "\n",
    "# Setup Data for Plot\n",
    "Kd = LogTimePoints(-9,-3)[::-1]\n",
    "\n",
    "# Params\n",
    "# Kd  = 1e-7\n",
    "A0_AA = 1e-6/2.0\n",
    "A0  = 1e-6\n",
    "B0  = 1e-6\n",
    "# kon = 1e6\n",
    "\n",
    "# Generate Plot Data\n",
    "OtO_A_AB_SS  = SS_A_AB(Kd, A0, B0)\n",
    "OtO_B_AB_SS  = SS_B_AB(Kd, A0, B0)\n",
    "OtO_AB_SS = SS_AB(Kd, A0, B0)\n",
    "OtO_A_SS  = SS_A(Kd, A0_AA)\n",
    "OtO_AA_SS = SS_AA(Kd, A0_AA)"
   ]
  },
  {
   "cell_type": "code",
   "execution_count": 27,
   "metadata": {},
   "outputs": [],
   "source": [
    "# Figure Settings\n",
    "ImgFileName = 'Line_SpeciesYield_AB_AA.pdf'\n",
    "# Title       = 'Example Title'\n",
    "XAxisLabel  = '$K_d$ (M)'\n",
    "YAxisLabel  = 'Species Yield'\n",
    "XAxisPoints = Kd\n",
    "XLim = [np.max(XAxisPoints), np.min(XAxisPoints)]\n",
    "\n",
    "XBounds = (XLim[0] >= XAxisPoints) & (XAxisPoints >= XLim[1])\n",
    "XAxisPoints = XAxisPoints[XBounds]"
   ]
  },
  {
   "cell_type": "code",
   "execution_count": 28,
   "metadata": {},
   "outputs": [],
   "source": [
    "MainPlot = MP.LinePlot(\n",
    "    Width=\"single\",\n",
    "    YAxisInPercent = False,\n",
    "    subplot=212,\n",
    "    PrimaryFig = MainPlot._MainFig\n",
    "    )\n",
    "\n",
    "MainPlot.AddLine(\n",
    "    XAxisPoints,\n",
    "    OtO_A_SS[XBounds]/A0_AA,\n",
    "    label=\"A\",\n",
    "    color=\"red\",\n",
    "    clip_on=False,\n",
    "#     alpha=0.5,\n",
    "    zorder=1\n",
    "    )\n",
    "MainPlot.AddLine(\n",
    "    XAxisPoints,\n",
    "    OtO_AA_SS[XBounds]/(0.5*A0_AA),\n",
    "    label=\"AA\",\n",
    "    color=\"Green\",\n",
    "    clip_on=False,\n",
    "#     alpha=0.5,\n",
    "    zorder=1\n",
    "    )\n",
    "MainPlot.AddLine(\n",
    "    XAxisPoints,\n",
    "    OtO_AB_SS[XBounds]/np.min([A0,B0]),\n",
    "    label=\"AB\",\n",
    "    color=\"blue\",\n",
    "    clip_on=False,\n",
    "    alpha=0.5,\n",
    "    zorder=1\n",
    "    )\n",
    "MainPlot.AddLine(\n",
    "    XAxisPoints,\n",
    "    OtO_A_AB_SS[XBounds]/(A0),\n",
    "    label=\"A\",\n",
    "    color=\"orange\",\n",
    "    clip_on=False,\n",
    "    alpha=0.5,\n",
    "    zorder=1\n",
    "    )\n",
    "MainPlot.AddLine(\n",
    "    XAxisPoints,\n",
    "    OtO_B_AB_SS[XBounds]/(B0),\n",
    "    label=\"B\",\n",
    "    color=\"yellow\",\n",
    "    clip_on=False,\n",
    "    alpha=0.5,\n",
    "    zorder=1\n",
    "    )\n",
    "\n",
    "# MainPlot.AddLine(\n",
    "#     XAxisPoints,\n",
    "#     OtO_AB_SS[XBounds]/np.min([A0,B0]),\n",
    "#     label=\"AB\",\n",
    "#     color=\"Green\",\n",
    "#     clip_on=False,\n",
    "# #     alpha=0.5,\n",
    "#     zorder=0\n",
    "#     )\n",
    "\n",
    "# LegendAdjust = (15.0, -10.0)\n",
    "MainPlot.AddLegend(\n",
    "    loc = \"center left\",\n",
    "#     loc = \"lower right\",\n",
    "#     loc = \"upper right\",\n",
    "    labelspacing = 0.5\n",
    "    )\n",
    "\n",
    "MainPlot.SetXRange(XLim[0],XLim[1])\n",
    "\n",
    "\n",
    "MainPlot.XLabel(XAxisLabel)\n",
    "MainPlot.YLabel(YAxisLabel)\n",
    "\n",
    "# MainPlot.ChangeYAxis(lambda x, p: format(x, '2.0e'))\n",
    "\n",
    "MainPlot._MainFig.show()\n",
    "MainPlot.SaveFig(ImgFileName,\n",
    "                 bbox_inches = 'tight',\n",
    "                 transparent=True\n",
    "                )"
   ]
  },
  {
   "cell_type": "code",
   "execution_count": null,
   "metadata": {},
   "outputs": [],
   "source": []
  }
 ],
 "metadata": {
  "kernelspec": {
   "display_name": "DataViewer27 Python 2.7.14",
   "language": "python",
   "name": "dataviewer27"
  },
  "language_info": {
   "codemirror_mode": {
    "name": "ipython",
    "version": 2
   },
   "file_extension": ".py",
   "mimetype": "text/x-python",
   "name": "python",
   "nbconvert_exporter": "python",
   "pygments_lexer": "ipython2",
   "version": "2.7.14"
  }
 },
 "nbformat": 4,
 "nbformat_minor": 2
}
