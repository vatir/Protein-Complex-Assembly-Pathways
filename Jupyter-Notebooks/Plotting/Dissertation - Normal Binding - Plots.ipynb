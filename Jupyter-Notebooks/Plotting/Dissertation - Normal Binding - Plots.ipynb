{
 "cells": [
  {
   "cell_type": "code",
   "execution_count": 1,
   "metadata": {},
   "outputs": [],
   "source": [
    "%load_ext autoreload\n",
    "\n",
    "import sys\n",
    "import numpy as np\n",
    "\n",
    "\n",
    "%matplotlib ipympl\n",
    "import matplotlib.pyplot as mpl\n",
    "\n",
    "# import pydevd\n",
    "# import ipdb"
   ]
  },
  {
   "cell_type": "code",
   "execution_count": 2,
   "metadata": {},
   "outputs": [],
   "source": [
    "# One to One binding Functions\n",
    "from Helpers.OneToOne import *"
   ]
  },
  {
   "cell_type": "code",
   "execution_count": null,
   "metadata": {},
   "outputs": [],
   "source": []
  },
  {
   "cell_type": "markdown",
   "metadata": {},
   "source": [
    "$$\\frac{\\sqrt{\\text{koff} (8 \\text{A0} \\text{kon}+\\text{koff})} \\tanh \\left(\\frac{1}{2} t \\sqrt{\\text{koff} (8 \\text{A0} \\text{kon}+\\text{koff})}+\\tanh ^{-1}\\left(\\frac{4 \\text{A0} \\text{kon}+\\text{koff}}{\\sqrt{\\text{koff} (8 \\text{A0} \\text{kon}+\\text{koff})}}\\right)\\right)-\\text{koff}}{4 \\text{kon}}$$"
   ]
  },
  {
   "cell_type": "code",
   "execution_count": 3,
   "metadata": {},
   "outputs": [
    {
     "data": {
      "text/plain": [
       "(0.022731187038378668+1.5707963267948966j)"
      ]
     },
     "execution_count": 3,
     "metadata": {},
     "output_type": "execute_result"
    }
   ],
   "source": [
    "np.arctanh(44.0+0j)"
   ]
  },
  {
   "cell_type": "code",
   "execution_count": 4,
   "metadata": {},
   "outputs": [
    {
     "name": "stdout",
     "output_type": "stream",
     "text": [
      "[2.21120773e-08]\n",
      "[4.88943961e-07]\n",
      "[2.21120773e-08]\n",
      "[1.00000000e-06 9.99980000e-07 2.21120773e-08]\n",
      "[4.88943961e-07]\n",
      "[0.00000000e+00 9.99979995e-12 4.88943961e-07]\n"
     ]
    }
   ],
   "source": [
    "Kd   = 1e-9\n",
    "kon  = 1e6\n",
    "koff = Kd*kon\n",
    "\n",
    "A0 = 1e-6\n",
    "\n",
    "print(SS_A(Kd=Kd,A0=A0))\n",
    "print(SS_AA(Kd=Kd,A0=A0))\n",
    "print(A(Kd=Kd,A0=A0,kon=kon,t=1e8))\n",
    "print(A(Kd=Kd,A0=A0,kon=kon,t=[0,1e-5,1e5]))\n",
    "print(AA(Kd=Kd,A0=A0,kon=kon,t=1e8))\n",
    "print(AA(Kd=Kd,A0=A0,kon=kon,t=[0,1e-5,1e5]))"
   ]
  },
  {
   "cell_type": "code",
   "execution_count": 5,
   "metadata": {},
   "outputs": [
    {
     "name": "stdout",
     "output_type": "stream",
     "text": [
      "[9.00110974e-07]\n",
      "[1.10974123e-10]\n",
      "[9.98890259e-08]\n",
      "[9.98890259e-08]\n",
      "[9.00110974e-07]\n",
      "[1.00000000e-06 9.99900055e-07 9.00121937e-07]\n",
      "[1.10974123e-10]\n",
      "[1.00000000e-07 9.99000550e-08 1.21936769e-10]\n",
      "[9.98890259e-08]\n",
      "[0.00000000e+00 9.99449735e-11 9.98780632e-08]\n"
     ]
    }
   ],
   "source": [
    "Kd   = 1e-9\n",
    "kon  = 1e6\n",
    "koff = Kd*kon\n",
    "\n",
    "A0 = 1e-6\n",
    "B0 = 1e-7\n",
    "\n",
    "print(SS_A_AB(Kd=Kd,A0=A0,B0=B0))\n",
    "print(SS_B_AB(Kd=Kd,A0=A0,B0=B0))\n",
    "print(SS_AB(Kd=Kd,A0=A0,B0=B0))\n",
    "print(SS_AB_2(Kd=Kd,A0=A0,B0=B0))\n",
    "print(A_AB(Kd=Kd,A0=A0,B0=B0,kon=kon,t=1e4))\n",
    "print(A_AB(Kd=Kd,A0=A0,B0=B0,kon=kon,t=[0,1e-3,10]))\n",
    "print(B(Kd=Kd,A0=A0,B0=B0,kon=kon,t=1e4))\n",
    "print(B(Kd=Kd,A0=A0,B0=B0,kon=kon,t=[0,1e-3,10]))\n",
    "print(AB(Kd=Kd,A0=A0,B0=B0,kon=kon,t=1e4))\n",
    "print(AB(Kd=Kd,A0=A0,B0=B0,kon=kon,t=[0,1e-3,10]))"
   ]
  },
  {
   "cell_type": "code",
   "execution_count": 6,
   "metadata": {},
   "outputs": [],
   "source": [
    "%autoreload 2\n",
    "from Helpers.ODERunPyV3 import ODEFunc\n",
    "def Binding(\n",
    "            Type, # AA or AB probably\n",
    "            A0 = 0.0,\n",
    "            B0 = 0.0,\n",
    "            Kd = 1e-9,\n",
    "#             Kd2 = 1e-9,\n",
    "            Kp = 1e6,\n",
    "            TimeLength = 1e2,\n",
    "            TimeStart = -3,\n",
    "            TimeStop = 12,\n",
    "#             Normalized = False\n",
    "            ):\n",
    "    \n",
    "#     pydevd.settrace('hexalith', port=12345, stdoutToServer=True, stderrToServer=True)\n",
    "    Kd2 = Kd\n",
    "    Func = ODEFunc()\n",
    "    Func.GetSDataFromFiles(\"species{}\".format(Type))\n",
    "    Func.GetRDataFromFiles(\"react{}\".format(Type))\n",
    "    Func.SetTimeRange(TimeStart, TimeStop, TimeLength)\n",
    "    # ODE Solver Params\n",
    "    rtol = 1e-10 # Used 1e-8 for 2Static (1e-10 Normally)\n",
    "    atol = 1e-20 # Used 1e-20 for 2Static (1e-25 Normally)\n",
    "    mxstep=int(5e8)\n",
    "    mxordn=int(5e7)\n",
    "    mxords=int(5e7)\n",
    "    hmin = 1e-50 # 0 means solver determined\n",
    "    hmax = 1e20 # 0 means solver determined\n",
    "    Func.GenCoef(\n",
    "        Kd1 = Kd,\n",
    "        Kd2 = Kd2,\n",
    "        Kp  = Kp,\n",
    "        A0  = A0,\n",
    "        B0  = B0,\n",
    "        Delta = 0.0 # No Synthesis or Degradation\n",
    "        )\n",
    "    Result, Message = Func.RunODEINT(\n",
    "        ReturnOutMessage=True,\n",
    "        rtol = rtol,\n",
    "        atol = atol,\n",
    "        mxstep = mxstep,\n",
    "        mxordn = mxordn,\n",
    "        mxords = mxords,\n",
    "        hmin = hmin,\n",
    "        hmax = hmax\n",
    "        );\n",
    "    if Message != 'Integration successful.': print(\"Integration Failure\")\n",
    "    ResultsWTime = np.zeros([Result.shape[0],Result.shape[1]+1],dtype=Result.dtype)\n",
    "    ResultsWTime[:,0] = Func.Time\n",
    "#     print (Func.Coef2D)\n",
    "\n",
    "    for i in range(Result.shape[1]):\n",
    "        ResultsWTime[:,i+1] = Result[:,i]\n",
    "#         if Normalized:\n",
    "#             ResultsWTime[:,i+1] = Result[:,i]/A0\n",
    "#         else:\n",
    "    return ResultsWTime"
   ]
  },
  {
   "cell_type": "code",
   "execution_count": 7,
   "metadata": {},
   "outputs": [
    {
     "name": "stderr",
     "output_type": "stream",
     "text": [
      "/home/vatir/anaconda3/lib/python3.6/site-packages/matplotlib/__init__.py:932: MatplotlibDeprecationWarning: nbagg.transparent is deprecated and ignored. Use figure.facecolor instead.\n",
      "  mplDeprecation)\n"
     ]
    },
    {
     "data": {
      "application/vnd.jupyter.widget-view+json": {
       "model_id": "0dc423936d6f44538e04c784f7c0f099",
       "version_major": 2,
       "version_minor": 0
      },
      "text/html": [
       "<p>Failed to display Jupyter Widget of type <code>FigureCanvasNbAgg</code>.</p>\n",
       "<p>\n",
       "  If you're reading this message in the Jupyter Notebook or JupyterLab Notebook, it may mean\n",
       "  that the widgets JavaScript is still loading. If this message persists, it\n",
       "  likely means that the widgets JavaScript library is either not installed or\n",
       "  not enabled. See the <a href=\"https://ipywidgets.readthedocs.io/en/stable/user_install.html\">Jupyter\n",
       "  Widgets Documentation</a> for setup instructions.\n",
       "</p>\n",
       "<p>\n",
       "  If you're reading this message in another frontend (for example, a static\n",
       "  rendering on GitHub or <a href=\"https://nbviewer.jupyter.org/\">NBViewer</a>),\n",
       "  it may mean that your frontend doesn't currently support widgets.\n",
       "</p>\n"
      ],
      "text/plain": [
       "FigureCanvasNbAgg()"
      ]
     },
     "metadata": {},
     "output_type": "display_data"
    },
    {
     "data": {
      "text/plain": [
       "[]"
      ]
     },
     "execution_count": 7,
     "metadata": {},
     "output_type": "execute_result"
    }
   ],
   "source": [
    "mpl.figure()\n",
    "\n",
    "Index = 1\n",
    "\n",
    "Kd   = 1e-9\n",
    "kon  = 1e6\n",
    "koff = Kd*kon\n",
    "\n",
    "A0 = 1e-6\n",
    "# B0 = 1e-7\n",
    "\n",
    "CData = Binding(\"AA\", A0 = A0, Kd = Kd, TimeStop=4)\n",
    "Time  = CData[:,0]\n",
    "AA(Kd=Kd,A0=A0,kon=kon,t=Time)\n",
    "\n",
    "mpl.plot(Time, CData[:,1], alpha=0.5, label=\"A_Numerical: {}\".format(Index))\n",
    "mpl.plot(Time, CData[:,2], alpha=0.5, label=\"AA_Numerical: {}\".format(Index))\n",
    "mpl.plot(Time, CData[:,1]+CData[:,2]*2.0, alpha=0.5, label=\"Total_Numerical: {}\".format(Index))\n",
    "# mpl.plot(Time, A(Kd=Kd,A0=A0,kon=kon,t=Time), alpha=0.5, label=\"A_Analytic: {}\".format(Index))\n",
    "# mpl.plot(Time, AA(Kd=Kd,A0=A0,kon=kon,t=Time), alpha=0.5, label=\"AA_Analytic: {}\".format(Index))\n",
    "# mpl.plot(Time, A(Kd=Kd,A0=A0,kon=kon,t=Time)+2.0*AA(Kd=Kd,A0=A0,kon=kon,t=Time), alpha=0.5, label=\"Total_Analytic: {}\".format(Index))\n",
    "# mpl.plot(Time, CData[:,1] - A(Kd=Kd,A0=A0,kon=kon,t=Time), alpha=0.5, label=\"A_Diff: {}\".format(Index))\n",
    "# mpl.plot(Time, CData[:,2] - AA(Kd=Kd,A0=A0,kon=kon,t=Time), alpha=0.5, label=\"AA_Diff: {}\".format(Index))\n",
    "\n",
    "# print(\"Kd: {:.2e} ; A0: {:.2e} ; B0: {:.2e} ; A: {:.2e} ;  SS_A: {:.2e} ;  B: {:.2e} ; SS_B: {:.2e} ;  AB: {:.2e} ; SS_AB: {:.2e}\".format(Kd, A0, B0, CData[-1,1], SS_A_AB(Kd, A0, B0)[0], CData[-1,2], SS_B_AB(Kd, A0, B0)[0], CData[-1,3], SS_AB(Kd, A0, B0)[0]))\n",
    "mpl.legend()\n",
    "mpl.semilogx()\n",
    "# mpl.semilogy()\n",
    "# mpl.xlim(1e-8,1e4)"
   ]
  },
  {
   "cell_type": "code",
   "execution_count": 8,
   "metadata": {},
   "outputs": [
    {
     "name": "stderr",
     "output_type": "stream",
     "text": [
      "/home/vatir/anaconda3/lib/python3.6/site-packages/matplotlib/__init__.py:932: MatplotlibDeprecationWarning: nbagg.transparent is deprecated and ignored. Use figure.facecolor instead.\n",
      "  mplDeprecation)\n"
     ]
    },
    {
     "data": {
      "application/vnd.jupyter.widget-view+json": {
       "model_id": "a3896f7fbdb64881996bd678b91bf0e2",
       "version_major": 2,
       "version_minor": 0
      },
      "text/html": [
       "<p>Failed to display Jupyter Widget of type <code>FigureCanvasNbAgg</code>.</p>\n",
       "<p>\n",
       "  If you're reading this message in the Jupyter Notebook or JupyterLab Notebook, it may mean\n",
       "  that the widgets JavaScript is still loading. If this message persists, it\n",
       "  likely means that the widgets JavaScript library is either not installed or\n",
       "  not enabled. See the <a href=\"https://ipywidgets.readthedocs.io/en/stable/user_install.html\">Jupyter\n",
       "  Widgets Documentation</a> for setup instructions.\n",
       "</p>\n",
       "<p>\n",
       "  If you're reading this message in another frontend (for example, a static\n",
       "  rendering on GitHub or <a href=\"https://nbviewer.jupyter.org/\">NBViewer</a>),\n",
       "  it may mean that your frontend doesn't currently support widgets.\n",
       "</p>\n"
      ],
      "text/plain": [
       "FigureCanvasNbAgg()"
      ]
     },
     "metadata": {},
     "output_type": "display_data"
    },
    {
     "name": "stderr",
     "output_type": "stream",
     "text": [
      "No handles with labels found to put in legend.\n"
     ]
    },
    {
     "data": {
      "text/plain": [
       "[]"
      ]
     },
     "execution_count": 8,
     "metadata": {},
     "output_type": "execute_result"
    }
   ],
   "source": [
    "mpl.figure()\n",
    "\n",
    "Index = 1\n",
    "\n",
    "Kd   = 1e-4\n",
    "kon  = 1e6\n",
    "koff = Kd*kon\n",
    "\n",
    "A0 = 1e-5\n",
    "B0 = 2e-5\n",
    "\n",
    "CData = Binding(\"AB\", A0 = A0, B0 = B0, Kd = Kd, TimeStop=15)\n",
    "Time  = CData[:,0]\n",
    "AB(Kd=Kd,A0=A0,B0=B0,kon=kon,t=Time)\n",
    "\n",
    "# mpl.plot(Time, CData[:,1], alpha=0.5, label=\"A_Numerical: {}\".format(Index))\n",
    "# mpl.plot(Time, CData[:,2], alpha=0.5, label=\"B_Numerical: {}\".format(Index))\n",
    "# mpl.plot(Time, CData[:,3], alpha=0.5, label=\"AB_Numerical: {}\".format(Index))\n",
    "# mpl.plot(Time, CData[:,1]+CData[:,3], alpha=0.5, label=\"Total_A_Numerical: {}\".format(Index))\n",
    "# mpl.plot(Time, +CData[:,2]+CData[:,3], alpha=0.5, label=\"Total_B_Numerical: {}\".format(Index))\n",
    "# mpl.plot(Time, A_AB(Kd=Kd,A0=A0,B0=B0,kon=kon,t=Time), alpha=0.5, label=\"A_Analytic: {}\".format(Index))\n",
    "# mpl.plot(Time, B(Kd=Kd,A0=A0,B0=B0,kon=kon,t=Time), alpha=0.5, label=\"B_Analytic: {}\".format(Index))\n",
    "# mpl.plot(Time, AB(Kd=Kd,A0=A0,B0=B0,kon=kon,t=Time), alpha=0.5, label=\"AB_Analytic: {}\".format(Index))\n",
    "# mpl.plot(Time, A_AB(Kd=Kd,A0=A0,B0=B0,kon=kon,t=Time)+AB(Kd=Kd,A0=A0,B0=B0,kon=kon,t=Time), alpha=0.5, label=\"Total_A_Analytic: {}\".format(Index))\n",
    "# mpl.plot(Time, B(Kd=Kd,A0=A0,B0=B0,kon=kon,t=Time)+AB(Kd=Kd,A0=A0,B0=B0,kon=kon,t=Time), alpha=0.5, label=\"Total_B_Analytic: {}\".format(Index))\n",
    "# mpl.plot(Time, CData[:,1] - A_AB(Kd=Kd,A0=A0,B0=B0,kon=kon,t=Time), alpha=0.5, label=\"A_Diff: {}\".format(Index))\n",
    "# mpl.plot(Time, CData[:,2] - B(Kd=Kd,A0=A0,B0=B0,kon=kon,t=Time), alpha=0.5, label=\"B_Diff: {}\".format(Index))\n",
    "# mpl.plot(Time, CData[:,3] - AB(Kd=Kd,A0=A0,B0=B0,kon=kon,t=Time), alpha=0.5, label=\"AB_Diff: {}\".format(Index))\n",
    "\n",
    "# print(\"Kd: {:.2e} ; A0: {:.2e} ; B0: {:.2e} ; A: {:.2e} ;  SS_A: {:.2e} ;  B: {:.2e} ; SS_B: {:.2e} ;  AB: {:.2e} ; SS_AB: {:.2e}\".format(Kd, A0, B0, CData[-1,1], SS_A_AB(Kd, A0, B0)[0], CData[-1,2], SS_B_AB(Kd, A0, B0)[0], CData[-1,3], SS_AB(Kd, A0, B0)[0]))\n",
    "mpl.legend()\n",
    "mpl.semilogx()\n",
    "mpl.semilogy()\n"
   ]
  },
  {
   "cell_type": "code",
   "execution_count": 9,
   "metadata": {},
   "outputs": [
    {
     "name": "stdout",
     "output_type": "stream",
     "text": [
      "[0.e+00 1.e-06 1.e-07 0.e+00]\n",
      "[1.00000000e+03 9.00110974e-07 1.10974123e-10 9.98890259e-08]\n"
     ]
    }
   ],
   "source": [
    "A0 = 1e-6\n",
    "B0 = 1e-7\n",
    "\n",
    "BData = Binding(\n",
    "                Type=\"AB\",\n",
    "                A0 = A0,\n",
    "                B0 = B0,\n",
    "                Kd = 1e-9,\n",
    "                TimeStop = 3\n",
    "                );\n",
    "#BDataN = BData/A0;\n",
    "BData[(slice(None),(0,1))]; # Time and A\n",
    "print(BData[0])\n",
    "print(BData[-1])"
   ]
  },
  {
   "cell_type": "code",
   "execution_count": 10,
   "metadata": {},
   "outputs": [
    {
     "name": "stderr",
     "output_type": "stream",
     "text": [
      "/home/vatir/anaconda3/lib/python3.6/site-packages/matplotlib/__init__.py:932: MatplotlibDeprecationWarning: nbagg.transparent is deprecated and ignored. Use figure.facecolor instead.\n",
      "  mplDeprecation)\n"
     ]
    },
    {
     "data": {
      "application/vnd.jupyter.widget-view+json": {
       "model_id": "6890a913e915486abde9a7ba9e853dc9",
       "version_major": 2,
       "version_minor": 0
      },
      "text/html": [
       "<p>Failed to display Jupyter Widget of type <code>FigureCanvasNbAgg</code>.</p>\n",
       "<p>\n",
       "  If you're reading this message in the Jupyter Notebook or JupyterLab Notebook, it may mean\n",
       "  that the widgets JavaScript is still loading. If this message persists, it\n",
       "  likely means that the widgets JavaScript library is either not installed or\n",
       "  not enabled. See the <a href=\"https://ipywidgets.readthedocs.io/en/stable/user_install.html\">Jupyter\n",
       "  Widgets Documentation</a> for setup instructions.\n",
       "</p>\n",
       "<p>\n",
       "  If you're reading this message in another frontend (for example, a static\n",
       "  rendering on GitHub or <a href=\"https://nbviewer.jupyter.org/\">NBViewer</a>),\n",
       "  it may mean that your frontend doesn't currently support widgets.\n",
       "</p>\n"
      ],
      "text/plain": [
       "FigureCanvasNbAgg()"
      ]
     },
     "metadata": {},
     "output_type": "display_data"
    },
    {
     "name": "stdout",
     "output_type": "stream",
     "text": [
      "Kd: 1.00e-09 ; A0: 1.00e-06 ; B0: 1.00e-05 ; A: 1.11e-10 ;  SS_A: 1.11e-10 ;  B: 9.00e-06 ; SS_B: 9.00e-06 ;  AB: 1.00e-06 ; SS_AB: 1.00e-06\n",
      "Kd: 4.64e-09 ; A0: 1.00e-06 ; B0: 1.00e-05 ; A: 5.15e-10 ;  SS_A: 5.15e-10 ;  B: 9.00e-06 ; SS_B: 9.00e-06 ;  AB: 9.99e-07 ; SS_AB: 9.99e-07\n",
      "Kd: 2.15e-08 ; A0: 1.00e-06 ; B0: 1.00e-05 ; A: 2.39e-09 ;  SS_A: 2.39e-09 ;  B: 9.00e-06 ; SS_B: 9.00e-06 ;  AB: 9.98e-07 ; SS_AB: 9.98e-07\n",
      "Kd: 1.00e-07 ; A0: 1.00e-06 ; B0: 1.00e-05 ; A: 1.10e-08 ;  SS_A: 1.10e-08 ;  B: 9.01e-06 ; SS_B: 9.01e-06 ;  AB: 9.89e-07 ; SS_AB: 9.89e-07\n",
      "Kd: 4.64e-07 ; A0: 1.00e-06 ; B0: 1.00e-05 ; A: 4.88e-08 ;  SS_A: 4.88e-08 ;  B: 9.05e-06 ; SS_B: 9.05e-06 ;  AB: 9.51e-07 ; SS_AB: 9.51e-07\n",
      "Kd: 2.15e-06 ; A0: 1.00e-06 ; B0: 1.00e-05 ; A: 1.90e-07 ;  SS_A: 1.90e-07 ;  B: 9.19e-06 ; SS_B: 9.19e-06 ;  AB: 8.10e-07 ; SS_AB: 8.10e-07\n",
      "Kd: 1.00e-05 ; A0: 1.00e-06 ; B0: 1.00e-05 ; A: 5.12e-07 ;  SS_A: 5.12e-07 ;  B: 9.51e-06 ; SS_B: 9.51e-06 ;  AB: 4.88e-07 ; SS_AB: 4.88e-07\n",
      "Kd: 4.64e-05 ; A0: 1.00e-06 ; B0: 1.00e-05 ; A: 8.25e-07 ;  SS_A: 8.25e-07 ;  B: 9.83e-06 ; SS_B: 9.83e-06 ;  AB: 1.75e-07 ; SS_AB: 1.75e-07\n",
      "Kd: 2.15e-04 ; A0: 1.00e-06 ; B0: 1.00e-05 ; A: 9.56e-07 ;  SS_A: 9.56e-07 ;  B: 9.96e-06 ; SS_B: 9.96e-06 ;  AB: 4.42e-08 ; SS_AB: 4.42e-08\n",
      "Kd: 1.00e-03 ; A0: 1.00e-06 ; B0: 1.00e-05 ; A: 9.90e-07 ;  SS_A: 9.90e-07 ;  B: 9.99e-06 ; SS_B: 9.99e-06 ;  AB: 9.89e-09 ; SS_AB: 9.89e-09\n"
     ]
    },
    {
     "data": {
      "text/plain": [
       "[]"
      ]
     },
     "execution_count": 10,
     "metadata": {},
     "output_type": "execute_result"
    }
   ],
   "source": [
    "#mpl.plot(Time, BDataN[:,0], alpha=1.0, label=\"A\")\n",
    "#mpl.plot(Time, BDataN[:,1], alpha=1.0, label=\"B\")\n",
    "#[mpl.plot(Time, Binding(x)[:,0], alpha=1.0, label=\"A: {}\".format(x)) for x in np.logspace(-9,-3,10)]\n",
    "Kd = 1e-8\n",
    "mpl.figure()\n",
    "for x in np.logspace(-9,-3,10):\n",
    "# for x in [1e-6]:\n",
    "    Kd = x\n",
    "    A0 = 1e-6\n",
    "    B0 = A0*10.0\n",
    "    \n",
    "    CData = Binding(\"AB\", A0 = A0, B0 = B0, Kd = Kd, TimeStop=5)\n",
    "    Time  = CData[:,0]\n",
    "#     mpl.plot(Time, CData[:,1]/x, alpha=1.0, label=\"A: {}\".format(x))\n",
    "#     mpl.plot(Time, 2*CData[:,2]/x, alpha=1.0, label=\"B: {}\".format(x))\n",
    "#     mpl.plot(Time, SS_AB(Kd, x, x)[0]/x*np.ones(len(Time)), alpha=1.0, label=\"SS_AA: {}\".format(x))\n",
    "#     mpl.plot(Time, (CData[:,1] + 2.0*CData[:,2])/A0, alpha=1.0, label=\"Total: {}\".format(x))\n",
    "    print(\"Kd: {:.2e} ; A0: {:.2e} ; B0: {:.2e} ; A: {:.2e} ;  SS_A: {:.2e} ;  B: {:.2e} ; SS_B: {:.2e} ;  AB: {:.2e} ; SS_AB: {:.2e}\".format(Kd, A0, B0, CData[-1,1], SS_A_AB(Kd, A0, B0)[0], CData[-1,2], SS_B_AB(Kd, A0, B0)[0], CData[-1,3], SS_AB(Kd, A0, B0)[0]))\n",
    "# mpl.legend()\n",
    "mpl.semilogx()\n",
    "\n",
    "# mpl.semilogy()\n",
    "\n"
   ]
  },
  {
   "cell_type": "code",
   "execution_count": 11,
   "metadata": {},
   "outputs": [
    {
     "name": "stderr",
     "output_type": "stream",
     "text": [
      "/home/vatir/anaconda3/lib/python3.6/site-packages/matplotlib/__init__.py:932: MatplotlibDeprecationWarning: nbagg.transparent is deprecated and ignored. Use figure.facecolor instead.\n",
      "  mplDeprecation)\n"
     ]
    },
    {
     "data": {
      "application/vnd.jupyter.widget-view+json": {
       "model_id": "0be6939af6d3498fb87e45d88f0368df",
       "version_major": 2,
       "version_minor": 0
      },
      "text/html": [
       "<p>Failed to display Jupyter Widget of type <code>FigureCanvasNbAgg</code>.</p>\n",
       "<p>\n",
       "  If you're reading this message in the Jupyter Notebook or JupyterLab Notebook, it may mean\n",
       "  that the widgets JavaScript is still loading. If this message persists, it\n",
       "  likely means that the widgets JavaScript library is either not installed or\n",
       "  not enabled. See the <a href=\"https://ipywidgets.readthedocs.io/en/stable/user_install.html\">Jupyter\n",
       "  Widgets Documentation</a> for setup instructions.\n",
       "</p>\n",
       "<p>\n",
       "  If you're reading this message in another frontend (for example, a static\n",
       "  rendering on GitHub or <a href=\"https://nbviewer.jupyter.org/\">NBViewer</a>),\n",
       "  it may mean that your frontend doesn't currently support widgets.\n",
       "</p>\n"
      ],
      "text/plain": [
       "FigureCanvasNbAgg()"
      ]
     },
     "metadata": {},
     "output_type": "display_data"
    },
    {
     "name": "stdout",
     "output_type": "stream",
     "text": [
      "Kd: 1.00e-09 ; A0: 1.00e-06 ; A: 2.21e-08 ; SS_A: 2.21e-08 : AA: 4.89e-07 ; SS_AA: 4.89e-07\n",
      "Kd: 4.64e-09 ; A0: 1.00e-06 ; A: 4.70e-08 ; SS_A: 4.70e-08 : AA: 4.76e-07 ; SS_AA: 4.76e-07\n",
      "Kd: 2.15e-08 ; A0: 1.00e-06 ; A: 9.85e-08 ; SS_A: 9.85e-08 : AA: 4.51e-07 ; SS_AA: 4.51e-07\n",
      "Kd: 1.00e-07 ; A0: 1.00e-06 ; A: 2.00e-07 ; SS_A: 2.00e-07 : AA: 4.00e-07 ; SS_AA: 4.00e-07\n",
      "Kd: 4.64e-07 ; A0: 1.00e-06 ; A: 3.79e-07 ; SS_A: 3.79e-07 : AA: 3.10e-07 ; SS_AA: 3.10e-07\n",
      "Kd: 2.15e-06 ; A0: 1.00e-06 ; A: 6.31e-07 ; SS_A: 6.31e-07 : AA: 1.85e-07 ; SS_AA: 1.85e-07\n",
      "Kd: 1.00e-05 ; A0: 1.00e-06 ; A: 8.54e-07 ; SS_A: 8.54e-07 : AA: 7.29e-08 ; SS_AA: 7.29e-08\n",
      "Kd: 4.64e-05 ; A0: 1.00e-06 ; A: 9.60e-07 ; SS_A: 9.60e-07 : AA: 1.99e-08 ; SS_AA: 1.99e-08\n",
      "Kd: 2.15e-04 ; A0: 1.00e-06 ; A: 9.91e-07 ; SS_A: 9.91e-07 : AA: 4.56e-09 ; SS_AA: 4.56e-09\n",
      "Kd: 1.00e-03 ; A0: 1.00e-06 ; A: 9.98e-07 ; SS_A: 9.98e-07 : AA: 9.96e-10 ; SS_AA: 9.96e-10\n"
     ]
    },
    {
     "data": {
      "text/plain": [
       "[]"
      ]
     },
     "execution_count": 11,
     "metadata": {},
     "output_type": "execute_result"
    }
   ],
   "source": [
    "#mpl.plot(Time, BDataN[:,0], alpha=1.0, label=\"A\")\n",
    "#mpl.plot(Time, BDataN[:,1], alpha=1.0, label=\"B\")\n",
    "#[mpl.plot(Time, Binding(x)[:,0], alpha=1.0, label=\"A: {}\".format(x)) for x in np.logspace(-9,-3,10)]\n",
    "Kd = 1e-8\n",
    "mpl.figure()\n",
    "for x in np.logspace(-9,-3,10):\n",
    "# for x in [1e-6]:\n",
    "    A0 = 1e-6\n",
    "    Kd = x\n",
    "    CData = Binding(\"AA\", A0 = A0, Kd = Kd, TimeStop=10)\n",
    "    Time  = CData[:,0]\n",
    "#     mpl.plot(Time, CData[:,1]/x, alpha=1.0, label=\"A: {}\".format(x))\n",
    "#     mpl.plot(Time, 2*CData[:,2]/x, alpha=1.0, label=\"B: {}\".format(x))\n",
    "#     mpl.plot(Time, SS_AB(Kd, x, x)[0]/x*np.ones(len(Time)), alpha=1.0, label=\"SS_AA: {}\".format(x))\n",
    "#     mpl.plot(Time, (CData[:,1] + 2.0*CData[:,2])/A0, alpha=1.0, label=\"Total: {}\".format(x))\n",
    "    print(\"Kd: {:.2e} ; A0: {:.2e} ; A: {:.2e} ; SS_A: {:.2e} : AA: {:.2e} ; SS_AA: {:.2e}\".format(Kd, A0, CData[-1,1], SS_A(Kd, A0)[0], CData[-1,2], SS_AA(Kd, A0)[0]))\n",
    "# mpl.legend()\n",
    "mpl.semilogx()\n",
    "\n",
    "# mpl.semilogy()\n",
    "\n"
   ]
  },
  {
   "cell_type": "code",
   "execution_count": 12,
   "metadata": {},
   "outputs": [
    {
     "data": {
      "text/plain": [
       "array([1.00000000e+10, 9.98007960e-07, 9.96019889e-10])"
      ]
     },
     "execution_count": 12,
     "metadata": {},
     "output_type": "execute_result"
    }
   ],
   "source": [
    "CData[-1]"
   ]
  },
  {
   "cell_type": "code",
   "execution_count": 13,
   "metadata": {},
   "outputs": [
    {
     "data": {
      "text/plain": [
       "0.0003819660112501051"
      ]
     },
     "execution_count": 13,
     "metadata": {},
     "output_type": "execute_result"
    }
   ],
   "source": [
    "SS_AB(Kd, x, x)[0]"
   ]
  },
  {
   "cell_type": "code",
   "execution_count": 14,
   "metadata": {},
   "outputs": [],
   "source": [
    "from sympy import *\n",
    "from sympy import Function, dsolve, Eq, Derivative, symbols, sin, cos, tan, tanh\n",
    "init_printing()"
   ]
  },
  {
   "cell_type": "code",
   "execution_count": 15,
   "metadata": {},
   "outputs": [
    {
     "name": "stdout",
     "output_type": "stream",
     "text": [
      "\\int e^{x} \\cos{\\left (x \\right )}\\, dx = \\frac{e^{x}}{2} \\sin{\\left (x \\right )} + \\frac{e^{x}}{2} \\cos{\\left (x \\right )}\n"
     ]
    },
    {
     "data": {
      "image/png": "[encoded data removed]",
      "text/latex": [
       "$$\\int e^{x} \\cos{\\left (x \\right )}\\, dx = \\frac{e^{x}}{2} \\sin{\\left (x \\right )} + \\frac{e^{x}}{2} \\cos{\\left (x \\right )}$$"
      ],
      "text/plain": [
       "⌠                 x           x       \n",
       "⎮  x             ℯ ⋅sin(x)   ℯ ⋅cos(x)\n",
       "⎮ ℯ ⋅cos(x) dx = ───────── + ─────────\n",
       "⌡                    2           2    "
      ]
     },
     "execution_count": 15,
     "metadata": {},
     "output_type": "execute_result"
    }
   ],
   "source": [
    "x = symbols('x')\n",
    "a = Integral(cos(x)*exp(x),x)\n",
    "\n",
    "print(latex(Eq(a,a.doit())))\n",
    "Eq(a,a.doit())"
   ]
  },
  {
   "cell_type": "code",
   "execution_count": 16,
   "metadata": {},
   "outputs": [],
   "source": [
    "t = symbols('t', real = True, nonnegative=True)\n",
    "kon = symbols('k_{on}', real = True, nonnegative=True, constant = True)\n",
    "koff = symbols('k_{off}', real = True, nonnegative=True, constant = True)\n",
    "kd = symbols('K_d', real = True, nonnegative=True, constant = True)\n",
    "A0 = symbols('A_0', real = True, nonnegative=True, constant = True)\n",
    "A = Function('A', real=True, nonnegative=True)\n",
    "AA = Function('AA', real=True, nonnegative=True)\n",
    "\n",
    "eq = [\n",
    "    Eq(A(t).diff(t),2*koff*AA(t) - 2*kon*A(t)**2),\n",
    "    Eq(AA(t).diff(t),-koff*AA(t) + kon*A(t)**2)\n",
    "]\n"
   ]
  },
  {
   "cell_type": "code",
   "execution_count": 17,
   "metadata": {},
   "outputs": [
    {
     "ename": "AttributeError",
     "evalue": "'list' object has no attribute 'args'",
     "output_type": "error",
     "traceback": [
      "\u001b[0;31m---------------------------------------------------------------------------\u001b[0m",
      "\u001b[0;31mAttributeError\u001b[0m                            Traceback (most recent call last)",
      "\u001b[0;32m<ipython-input-17-73de528c50bc>\u001b[0m in \u001b[0;36m<module>\u001b[0;34m()\u001b[0m\n\u001b[1;32m      4\u001b[0m     ics={\n\u001b[1;32m      5\u001b[0m         \u001b[0mA\u001b[0m\u001b[0;34m(\u001b[0m\u001b[0;36m0\u001b[0m\u001b[0;34m)\u001b[0m\u001b[0;34m:\u001b[0m \u001b[0mA0\u001b[0m\u001b[0;34m,\u001b[0m\u001b[0;34m\u001b[0m\u001b[0m\n\u001b[0;32m----> 6\u001b[0;31m         \u001b[0mAA\u001b[0m\u001b[0;34m(\u001b[0m\u001b[0;36m0\u001b[0m\u001b[0;34m)\u001b[0m\u001b[0;34m:\u001b[0m \u001b[0;36m0\u001b[0m\u001b[0;34m\u001b[0m\u001b[0m\n\u001b[0m\u001b[1;32m      7\u001b[0m     }\n\u001b[1;32m      8\u001b[0m )\n",
      "\u001b[0;32m~/anaconda3/lib/python3.6/site-packages/sympy/solvers/ode.py\u001b[0m in \u001b[0;36mclassify_ode\u001b[0;34m(eq, func, dict, ics, **kwargs)\u001b[0m\n\u001b[1;32m    814\u001b[0m     \u001b[0mprep\u001b[0m \u001b[0;34m=\u001b[0m \u001b[0mkwargs\u001b[0m\u001b[0;34m.\u001b[0m\u001b[0mpop\u001b[0m\u001b[0;34m(\u001b[0m\u001b[0;34m'prep'\u001b[0m\u001b[0;34m,\u001b[0m \u001b[0;32mTrue\u001b[0m\u001b[0;34m)\u001b[0m\u001b[0;34m\u001b[0m\u001b[0m\n\u001b[1;32m    815\u001b[0m \u001b[0;34m\u001b[0m\u001b[0m\n\u001b[0;32m--> 816\u001b[0;31m     \u001b[0;32mif\u001b[0m \u001b[0mfunc\u001b[0m \u001b[0;32mand\u001b[0m \u001b[0mlen\u001b[0m\u001b[0;34m(\u001b[0m\u001b[0mfunc\u001b[0m\u001b[0;34m.\u001b[0m\u001b[0margs\u001b[0m\u001b[0;34m)\u001b[0m \u001b[0;34m!=\u001b[0m \u001b[0;36m1\u001b[0m\u001b[0;34m:\u001b[0m\u001b[0;34m\u001b[0m\u001b[0m\n\u001b[0m\u001b[1;32m    817\u001b[0m         raise ValueError(\"dsolve() and classify_ode() only \"\n\u001b[1;32m    818\u001b[0m         \"work with functions of one variable, not %s\" % func)\n",
      "\u001b[0;31mAttributeError\u001b[0m: 'list' object has no attribute 'args'"
     ]
    }
   ],
   "source": [
    "classify_ode(\n",
    "    eq,\n",
    "    [A, AA],\n",
    "    ics={\n",
    "        A(0): A0,\n",
    "        AA(0): 0\n",
    "    }\n",
    ")"
   ]
  },
  {
   "cell_type": "code",
   "execution_count": null,
   "metadata": {},
   "outputs": [],
   "source": [
    "eq"
   ]
  },
  {
   "cell_type": "code",
   "execution_count": null,
   "metadata": {},
   "outputs": [],
   "source": [
    "t.assumptions0"
   ]
  },
  {
   "cell_type": "code",
   "execution_count": null,
   "metadata": {},
   "outputs": [],
   "source": [
    "t = symbols('t')\n",
    "kon = symbols('k_{on}')\n",
    "koff = symbols('k_{off}')\n",
    "kd = symbols('K_d')\n",
    "A0 = symbols('A_0')\n",
    "A = Function('[A]')\n",
    "AA = Function('[AA]')\n",
    "\n",
    "eq = [\n",
    "    -Derivative(A(t),t)+2*koff*AA(t) - 2*(kon*A(t))**2,\n",
    "    -Derivative(AA(t),t)-koff*AA(t) + kon*(A(t))**2\n",
    "]\n",
    "\n",
    "eqEq = [\n",
    "    Eq(Derivative(A(t),t),2*koff*AA(t) - 2*(kon*A(t))**2),\n",
    "    Eq(Derivative(AA(t),t),-koff*AA(t) + kon*(A(t))**2)\n",
    "]\n",
    "\n",
    "# eq = [\n",
    "#     -A.diff(t),2*koff*AA - 2*kon*A**2,\n",
    "#     -AA.diff(t),-koff*AA + kon*A**2\n",
    "# ]\n"
   ]
  },
  {
   "cell_type": "code",
   "execution_count": null,
   "metadata": {},
   "outputs": [],
   "source": [
    "eqEq"
   ]
  },
  {
   "cell_type": "code",
   "execution_count": null,
   "metadata": {},
   "outputs": [],
   "source": [
    "dsolve(\n",
    "    eq, hint=\"all\"\n",
    ")"
   ]
  },
  {
   "cell_type": "code",
   "execution_count": null,
   "metadata": {},
   "outputs": [],
   "source": [
    "ode_order(eq)"
   ]
  },
  {
   "cell_type": "code",
   "execution_count": null,
   "metadata": {},
   "outputs": [],
   "source": [
    "eq[0]"
   ]
  },
  {
   "cell_type": "code",
   "execution_count": null,
   "metadata": {},
   "outputs": [],
   "source": []
  },
  {
   "cell_type": "code",
   "execution_count": null,
   "metadata": {},
   "outputs": [],
   "source": [
    "t = symbols('t', real = True, nonnegative=True)\n",
    "kon = symbols('k_{on}', real = True, nonnegative=True)\n",
    "koff = symbols('k_{off}', real = True, nonnegative=True)\n",
    "kd = symbols('K_d', real = True, nonnegative=True)\n",
    "A0 = symbols('A_0', real = True, nonnegative=True)\n",
    "B0 = symbols('B_0', real = True, nonnegative=True)\n",
    "A = Function('[A]', real = True, nonnegative=True)\n",
    "B = Function('[B]', real = True, nonnegative=True)\n",
    "AB = Function('[AB]', real = True, nonnegative=True)\n",
    "\n",
    "eqEq = [\n",
    "    Eq(Derivative(A(t),t),koff*AB(t) - kon*(A0-AB(t))*(B0-AB(t))),\n",
    "    Eq(Derivative(B(t),t),koff*AB(t) - kon*(A0-AB(t))*(B0-AB(t))),\n",
    "    Eq(Derivative(AB(t),t),-koff*AB(t) + kon*(A0-AB(t))*(B0-AB(t)))\n",
    "]\n",
    "# A0 == A(t)+AB(t)\n",
    "# B0 == B(t)+AB(t)\n",
    "\n",
    "# eq = [\n",
    "#     -A.diff(t),2*koff*AA - 2*kon*A**2,\n",
    "#     -AA.diff(t),-koff*AA + kon*A**2\n",
    "# ]\n"
   ]
  },
  {
   "cell_type": "code",
   "execution_count": null,
   "metadata": {},
   "outputs": [],
   "source": [
    "eqEq"
   ]
  },
  {
   "cell_type": "code",
   "execution_count": null,
   "metadata": {},
   "outputs": [],
   "source": [
    "Sol = dsolve(eqEq,\n",
    "            [A(t),B(t),AB(t)],\n",
    "            ics = {\n",
    "                A(0): A0,\n",
    "                B(0): B0,\n",
    "                AB(0): 0\n",
    "            })"
   ]
  },
  {
   "cell_type": "code",
   "execution_count": null,
   "metadata": {},
   "outputs": [],
   "source": [
    "classify_ode(eqEq)"
   ]
  },
  {
   "cell_type": "code",
   "execution_count": null,
   "metadata": {},
   "outputs": [],
   "source": [
    "Sol"
   ]
  },
  {
   "cell_type": "code",
   "execution_count": null,
   "metadata": {},
   "outputs": [],
   "source": []
  }
 ],
 "metadata": {
  "kernelspec": {
   "display_name": "Python 3",
   "language": "python",
   "name": "python3"
  },
  "language_info": {
   "codemirror_mode": {
    "name": "ipython",
    "version": 3
   },
   "file_extension": ".py",
   "mimetype": "text/x-python",
   "name": "python",
   "nbconvert_exporter": "python",
   "pygments_lexer": "ipython3",
   "version": "3.6.4"
  }
 },
 "nbformat": 4,
 "nbformat_minor": 2
}
