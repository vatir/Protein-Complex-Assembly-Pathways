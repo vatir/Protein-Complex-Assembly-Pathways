{
 "cells": [
  {
   "cell_type": "code",
   "execution_count": 1,
   "metadata": {},
   "outputs": [],
   "source": [
    "import numpy as np\n",
    "import ODERun\n",
    "from collections import OrderedDict\n"
   ]
  },
  {
   "cell_type": "code",
   "execution_count": 2,
   "metadata": {},
   "outputs": [],
   "source": [
    "import numpy as np\n",
    "\n",
    "def unit_vector(vector):\n",
    "    \"\"\" Returns the unit vector of the vector.  \"\"\"\n",
    "    return vector / np.linalg.norm(vector)\n",
    "\n",
    "def angle_between(v1, v2):\n",
    "    \"\"\" Returns the angle in radians between vectors 'v1' and 'v2'::\n",
    "\n",
    "            >>> angle_between((1, 0, 0), (0, 1, 0))\n",
    "            1.5707963267948966\n",
    "            >>> angle_between((1, 0, 0), (1, 0, 0))\n",
    "            0.0\n",
    "            >>> angle_between((1, 0, 0), (-1, 0, 0))\n",
    "            3.141592653589793\n",
    "    \"\"\"\n",
    "    v1_u = unit_vector(v1)\n",
    "    v2_u = unit_vector(v2)\n",
    "    return np.arccos(np.clip(np.dot(v1_u, v2_u), -1.0, 1.0))"
   ]
  },
  {
   "cell_type": "code",
   "execution_count": 3,
   "metadata": {},
   "outputs": [
    {
     "data": {
      "text/plain": [
       "True"
      ]
     },
     "execution_count": 3,
     "metadata": {},
     "output_type": "execute_result"
    }
   ],
   "source": [
    "Base = ODERun.ODEFunc()\n",
    "Base.GetSDataFromFiles()\n",
    "Base.GetRDataFromFiles()"
   ]
  },
  {
   "cell_type": "code",
   "execution_count": 4,
   "metadata": {},
   "outputs": [
    {
     "data": {
      "text/plain": [
       "(12, 68)"
      ]
     },
     "execution_count": 4,
     "metadata": {},
     "output_type": "execute_result"
    }
   ],
   "source": [
    "SM = np.matrix(np.zeros([len(Base.Species),2*len(Base.Reactions)]))\n",
    "SM.shape"
   ]
  },
  {
   "cell_type": "code",
   "execution_count": 5,
   "metadata": {},
   "outputs": [
    {
     "data": {
      "text/plain": [
       "[[0, 0, 1, 1, 0, 1, 1],\n",
       " [0, 0, 2, 2, 1, 0, 1],\n",
       " [0, 1, 2, 3, 1, 0, 1],\n",
       " [0, 2, 1, 3, 0, 1, 1]]"
      ]
     },
     "execution_count": 5,
     "metadata": {},
     "output_type": "execute_result"
    }
   ],
   "source": [
    "Base.Reactions[:4]"
   ]
  },
  {
   "cell_type": "code",
   "execution_count": 6,
   "metadata": {},
   "outputs": [],
   "source": [
    "def SC(S):\n",
    "    return Base.SpeciesConvert.keys()[S]\n",
    "def PC(I):\n",
    "    return np.sum(np.array([i.split(',') for i in Base.Species[SC(I)].split(';')]) == '1')"
   ]
  },
  {
   "cell_type": "raw",
   "metadata": {},
   "source": [
    "    \"\"\"\n",
    "    R[0] : Reactant 1\n",
    "    R[1] : Reactant 2\n",
    "    R[3] : Product 1\n",
    "    R[2] : Forward Count\n",
    "    R[6] : Reverse Count\n",
    "    R[4] : Intra-Ring Bond Count\n",
    "    R[5] : Inter-Ring Bond Count\n",
    "    \"\"\""
   ]
  },
  {
   "cell_type": "code",
   "execution_count": 7,
   "metadata": {},
   "outputs": [],
   "source": [
    "Reacts = np.copy(Base.Reactions)\n",
    "ReactsToSort = []\n",
    "for i, R in enumerate(Reacts):\n",
    "    ReactsToSort.append(list(R))\n",
    "    ReactsToSort[i].extend([PC(R[0]),PC(R[1]),PC(R[3])])\n",
    "ReactsToSort = np.array(ReactsToSort)"
   ]
  },
  {
   "cell_type": "code",
   "execution_count": 8,
   "metadata": {},
   "outputs": [
    {
     "name": "stdout",
     "output_type": "stream",
     "text": [
      "[ 0  1  2  3  6  7 14  4  8 10 11 15 16 17 19 20 21 22 28  5  9 12 13 18 23\n",
      " 24 25 26 27 29 30 31 32 33]\n"
     ]
    }
   ],
   "source": [
    "ReactsSortedIndices = np.lexsort((ReactsToSort[:,9],ReactsToSort[:,8],ReactsToSort[:,7]))\n",
    "print ReactsSortedIndices\n",
    "Reacts = [list(ReactsToSort[i]) for i in ReactsSortedIndices]"
   ]
  },
  {
   "cell_type": "code",
   "execution_count": 9,
   "metadata": {},
   "outputs": [
    {
     "data": {
      "text/plain": [
       "array([2, 2, 3, 3, 4, 4, 3, 3, 4, 4, 4, 4, 4, 4, 3, 4, 4, 4, 4, 5, 5, 5, 5,\n",
       "       5, 5, 5, 5, 5, 6, 6, 6, 6, 6, 6])"
      ]
     },
     "execution_count": 9,
     "metadata": {},
     "output_type": "execute_result"
    }
   ],
   "source": [
    "ReactsToSort[:,9]"
   ]
  },
  {
   "cell_type": "code",
   "execution_count": 10,
   "metadata": {},
   "outputs": [],
   "source": [
    "def E(I, T):\n",
    "    if T == \"R1\":\n",
    "        return str(SC(Reacts[I][0]))\n",
    "    if T == \"R2\":\n",
    "        return str(SC(Reacts[I][1]))\n",
    "    if T == \"FC\":\n",
    "        if Reacts[I][2] == 1:\n",
    "            return \"\"\n",
    "        else:\n",
    "            return str(Reacts[I][2])\n",
    "    if T == \"P\":\n",
    "        return str(SC(Reacts[I][3]))\n",
    "    if T == \"B1\":\n",
    "        return str(Reacts[I][4])\n",
    "    if T == \"B2\":\n",
    "        return str(Reacts[I][5])\n",
    "    if T == \"RC\":\n",
    "        if Reacts[I][6] == 1:\n",
    "            return \"\"\n",
    "        else:\n",
    "            return str(Reacts[I][6])\n"
   ]
  },
  {
   "cell_type": "code",
   "execution_count": 12,
   "metadata": {},
   "outputs": [
    {
     "data": {
      "text/plain": [
       "[[0, 0, 1, 1, 0, 1, 1, 1, 1, 2],\n",
       " [0, 0, 2, 2, 1, 0, 1, 1, 1, 2],\n",
       " [0, 1, 2, 3, 1, 0, 1, 1, 2, 3],\n",
       " [0, 2, 1, 3, 0, 1, 1, 1, 2, 3],\n",
       " [0, 1, 2, 5, 1, 0, 1, 1, 2, 3],\n",
       " [0, 2, 1, 5, 0, 1, 1, 1, 2, 3],\n",
       " [0, 2, 1, 8, 2, 0, 3, 1, 2, 3],\n",
       " [0, 3, 1, 4, 1, 0, 2, 1, 3, 4],\n",
       " [0, 5, 1, 6, 1, 0, 2, 1, 3, 4],\n",
       " [0, 3, 1, 7, 1, 1, 2, 1, 3, 4],\n",
       " [0, 5, 1, 7, 1, 1, 2, 1, 3, 4],\n",
       " [0, 3, 1, 9, 2, 0, 1, 1, 3, 4],\n",
       " [0, 5, 1, 9, 2, 0, 1, 1, 3, 4],\n",
       " [0, 8, 3, 9, 0, 1, 1, 1, 3, 4],\n",
       " [0, 4, 2, 10, 2, 1, 1, 1, 4, 5],\n",
       " [0, 6, 2, 10, 2, 1, 1, 1, 4, 5],\n",
       " [0, 7, 2, 10, 2, 0, 1, 1, 4, 5],\n",
       " [0, 9, 2, 10, 1, 1, 2, 1, 4, 5],\n",
       " [0, 10, 1, 11, 2, 1, 6, 1, 5, 6],\n",
       " [2, 2, 1, 4, 0, 1, 1, 2, 2, 4],\n",
       " [2, 2, 1, 6, 0, 1, 1, 2, 2, 4],\n",
       " [1, 1, 4, 7, 2, 0, 1, 2, 2, 4],\n",
       " [2, 2, 1, 7, 0, 2, 1, 2, 2, 4],\n",
       " [1, 2, 2, 9, 2, 0, 1, 2, 2, 4],\n",
       " [1, 3, 2, 10, 3, 0, 1, 2, 3, 5],\n",
       " [1, 5, 2, 10, 3, 0, 1, 2, 3, 5],\n",
       " [2, 3, 1, 10, 2, 1, 1, 2, 3, 5],\n",
       " [2, 5, 1, 10, 2, 1, 1, 2, 3, 5],\n",
       " [2, 8, 3, 10, 0, 2, 1, 2, 3, 5],\n",
       " [1, 7, 2, 11, 4, 0, 3, 2, 4, 6],\n",
       " [2, 9, 1, 11, 2, 2, 6, 2, 4, 6],\n",
       " [3, 3, 1, 11, 4, 1, 3, 3, 3, 6],\n",
       " [5, 5, 1, 11, 4, 1, 3, 3, 3, 6],\n",
       " [8, 8, 3, 11, 0, 3, 1, 3, 3, 6]]"
      ]
     },
     "execution_count": 12,
     "metadata": {},
     "output_type": "execute_result"
    }
   ],
   "source": [
    "Reacts"
   ]
  },
  {
   "cell_type": "code",
   "execution_count": 11,
   "metadata": {},
   "outputs": [],
   "source": [
    "with open(\"reaction_latex\", \"w\") as fh:\n",
    "    for i in range(0,len(Reacts),3):\n",
    "    #     print i\n",
    "        if i < 33:\n",
    "            fh.write('\\includegraphics[valign=c,width=0.45in]{Chapter3/Figures/'+E(i,\"R1\")+\\\n",
    "                     '} + \\includegraphics[valign=c,width=0.45in]{Chapter3/Figures/'+E(i,\"R2\")+\\\n",
    "                     '} \\overset{'+E(i,\"FC\")+'\\kon}{\\underset{'+E(i,\"RC\")+'\\keff_{'+E(i,\"B1\")+\\\n",
    "                     ','+E(i,\"B2\")+'}}{\\\\rightleftharpoons}}\\includegraphics[valign=c,width=0.45in]{Chapter3/Figures/'+\\\n",
    "                     E(i,\"P\")+'}\\qquad&'+\"\\n\")\n",
    "            i += 1\n",
    "            fh.write('\\includegraphics[valign=c,width=0.45in]{Chapter3/Figures/'+E(i,\"R1\")+\\\n",
    "                     '} + \\includegraphics[valign=c,width=0.45in]{Chapter3/Figures/'+E(i,\"R2\")+\\\n",
    "                     '} \\overset{'+E(i,\"FC\")+'\\kon}{\\underset{'+E(i,\"RC\")+'\\keff_{'+E(i,\"B1\")+\\\n",
    "                     ','+E(i,\"B2\")+'}}{\\\\rightleftharpoons}}\\includegraphics[valign=c,width=0.45in]{Chapter3/Figures/'+\\\n",
    "                     E(i,\"P\")+'}\\qquad&'+\"\\n\")\n",
    "            i += 1\n",
    "            fh.write('\\includegraphics[valign=c,width=0.45in]{Chapter3/Figures/'+E(i,\"R1\")+\\\n",
    "                     '} + \\includegraphics[valign=c,width=0.45in]{Chapter3/Figures/'+E(i,\"R2\")+\\\n",
    "                     '} \\overset{'+E(i,\"FC\")+'\\kon}{\\underset{'+E(i,\"RC\")+'\\keff_{'+E(i,\"B1\")+\\\n",
    "                     ','+E(i,\"B2\")+'}}{\\\\rightleftharpoons}}\\includegraphics[valign=c,width=0.45in]{Chapter3/Figures/'+\\\n",
    "                     E(i,\"P\")+'}\\\\\\\\[0.5em]'+\"\\n\")\n",
    "        else:\n",
    "            fh.write('&\\includegraphics[valign=c,width=0.45in]{Chapter3/Figures/'+E(i,\"R1\")+'} + \\includegraphics[valign=c,width=0.45in]{Chapter3/Figures/'+E(i,\"R2\")+'} \\overset{'+E(i,\"FC\")+'\\kon}{\\underset{'+E(i,\"RC\")+'\\keff_{'+E(i,\"B1\")+','+E(i,\"B2\")+'}}{\\\\rightleftharpoons}}\\includegraphics[valign=c,width=0.45in]{Chapter3/Figures/'+E(i,\"P\")+'}&')\n"
   ]
  },
  {
   "cell_type": "code",
   "execution_count": null,
   "metadata": {},
   "outputs": [],
   "source": []
  }
 ],
 "metadata": {
  "kernelspec": {
   "display_name": "DataViewer27 Python 2.7.14",
   "language": "python",
   "name": "dataviewer27"
  },
  "language_info": {
   "codemirror_mode": {
    "name": "ipython",
    "version": 2
   },
   "file_extension": ".py",
   "mimetype": "text/x-python",
   "name": "python",
   "nbconvert_exporter": "python",
   "pygments_lexer": "ipython2",
   "version": "2.7.14"
  }
 },
 "nbformat": 4,
 "nbformat_minor": 2
}
