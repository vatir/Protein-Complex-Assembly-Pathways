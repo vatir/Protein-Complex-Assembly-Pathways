{
 "cells": [
  {
   "cell_type": "code",
   "execution_count": 1,
   "metadata": {},
   "outputs": [],
   "source": [
    "import numpy as np\n",
    "import ODERun\n",
    "from collections import OrderedDict\n"
   ]
  },
  {
   "cell_type": "code",
   "execution_count": 2,
   "metadata": {},
   "outputs": [],
   "source": [
    "import numpy as np\n",
    "\n",
    "def unit_vector(vector):\n",
    "    \"\"\" Returns the unit vector of the vector.  \"\"\"\n",
    "    return vector / np.linalg.norm(vector)\n",
    "\n",
    "def angle_between(v1, v2):\n",
    "    \"\"\" Returns the angle in radians between vectors 'v1' and 'v2'::\n",
    "\n",
    "            >>> angle_between((1, 0, 0), (0, 1, 0))\n",
    "            1.5707963267948966\n",
    "            >>> angle_between((1, 0, 0), (1, 0, 0))\n",
    "            0.0\n",
    "            >>> angle_between((1, 0, 0), (-1, 0, 0))\n",
    "            3.141592653589793\n",
    "    \"\"\"\n",
    "    v1_u = unit_vector(v1)\n",
    "    v2_u = unit_vector(v2)\n",
    "    return np.arccos(np.clip(np.dot(v1_u, v2_u), -1.0, 1.0))"
   ]
  },
  {
   "cell_type": "code",
   "execution_count": 3,
   "metadata": {},
   "outputs": [
    {
     "data": {
      "text/plain": [
       "True"
      ]
     },
     "execution_count": 3,
     "metadata": {},
     "output_type": "execute_result"
    }
   ],
   "source": [
    "Base = ODERun.ODEFunc()\n",
    "Base.GetSDataFromFiles()\n",
    "Base.GetRDataFromFiles()"
   ]
  },
  {
   "cell_type": "code",
   "execution_count": 4,
   "metadata": {},
   "outputs": [
    {
     "data": {
      "text/plain": [
       "(12, 68)"
      ]
     },
     "execution_count": 4,
     "metadata": {},
     "output_type": "execute_result"
    }
   ],
   "source": [
    "SM = np.matrix(np.zeros([len(Base.Species),2*len(Base.Reactions)]))\n",
    "SM.shape"
   ]
  },
  {
   "cell_type": "code",
   "execution_count": 5,
   "metadata": {},
   "outputs": [
    {
     "data": {
      "text/plain": [
       "[[0, 0, 1, 1, 0, 1, 1],\n",
       " [0, 0, 2, 2, 1, 0, 1],\n",
       " [0, 1, 2, 3, 1, 0, 1],\n",
       " [0, 2, 1, 3, 0, 1, 1]]"
      ]
     },
     "execution_count": 5,
     "metadata": {},
     "output_type": "execute_result"
    }
   ],
   "source": [
    "Base.Reactions[:4]"
   ]
  },
  {
   "cell_type": "code",
   "execution_count": 6,
   "metadata": {},
   "outputs": [],
   "source": [
    "Offset = len(Base.Reactions)\n",
    "for i, R in enumerate(Base.Reactions):\n",
    "    \"\"\"\n",
    "    R[0] : Reactant 1\n",
    "    R[1] : Reactant 2\n",
    "    R[3] : Product 1\n",
    "    R[2] : Forward Count\n",
    "    R[6] : Reverse Count\n",
    "    \"\"\"\n",
    "    SM[R[0],i] = -R[2]\n",
    "    SM[R[1],i] = -R[2]\n",
    "    SM[R[3],i] = R[2]\n",
    "    SM[R[0],i+Offset] = R[6]\n",
    "    SM[R[1],i+Offset] = R[6]\n",
    "    SM[R[3],i+Offset] = -R[6]"
   ]
  },
  {
   "cell_type": "code",
   "execution_count": 7,
   "metadata": {},
   "outputs": [
    {
     "name": "stdout",
     "output_type": "stream",
     "text": [
      "12\n",
      "(12, 12)\n",
      "(12,)\n",
      "(68, 68)\n",
      "12\n",
      "(68, 68)\n",
      "(12,)\n",
      "(12, 12)\n"
     ]
    }
   ],
   "source": [
    "SM_SVD = np.linalg.svd(SM)\n",
    "SM_SVD_Left = np.linalg.svd(SM.T)\n",
    "print np.linalg.matrix_rank(SM)\n",
    "print SM_SVD[0].shape\n",
    "print SM_SVD[1].shape\n",
    "print SM_SVD[2].shape\n",
    "print np.linalg.matrix_rank(SM.T)\n",
    "print SM_SVD_Left[0].shape\n",
    "print SM_SVD_Left[1].shape\n",
    "print SM_SVD_Left[2].shape"
   ]
  },
  {
   "cell_type": "code",
   "execution_count": 8,
   "metadata": {},
   "outputs": [
    {
     "data": {
      "text/plain": [
       "'\\nNotes:\\nSynth Rate for A0 equilibrium: A0*Delta\\nDilution effect for all species: Delta\\n\\nKeff * Combinitorial Factor * Conc1 * Conc2\\n\\n'"
      ]
     },
     "execution_count": 8,
     "metadata": {},
     "output_type": "execute_result"
    }
   ],
   "source": [
    "# Base.GenCoef(1.0,1.0,1.0,1.0,BondCoef=1.0, Keff_Ident=True)\n",
    "\n",
    "\n",
    "\n",
    "\n",
    "\n",
    "# for ID, Factors in enumerate(Base.Coef1D):\n",
    "\n",
    "\n",
    "# ReacCoef = OrderedDict()\n",
    "# for R in Base.Reactions:\n",
    "#     CurrentTerm = 0.0\n",
    "#     if R[0] == ID:\n",
    "#         CurrentTerm += R[6]\n",
    "#     if R[1] == ID:\n",
    "#         CurrentTerm += R[6]\n",
    "#     if R[3] == ID:\n",
    "#         CurrentTerm -= R[6]\n",
    "#     if CurrentTerm != 0.0:\n",
    "#         try:\n",
    "#             ReacCoef[R[3]]\n",
    "#         except:\n",
    "#             ReacCoef[R[3]] = OrderedDict()\n",
    "#         try:\n",
    "#             ReacCoef[R[3]][(R[4],R[5])] += CurrentTerm\n",
    "#         except:\n",
    "#             ReacCoef[R[3]][(R[4],R[5])] = CurrentTerm\n",
    "\n",
    "\n",
    "\"\"\"\n",
    "Notes:\n",
    "Synth Rate for A0 equilibrium: A0*Delta\n",
    "Dilution effect for all species: Delta\n",
    "\n",
    "Keff * Combinitorial Factor * Conc1 * Conc2\n",
    "\n",
    "\"\"\"\n"
   ]
  },
  {
   "cell_type": "code",
   "execution_count": 9,
   "metadata": {},
   "outputs": [
    {
     "data": {
      "text/plain": [
       "1.5707963267948968"
      ]
     },
     "execution_count": 9,
     "metadata": {},
     "output_type": "execute_result"
    }
   ],
   "source": [
    "U = SM_SVD[0]\n",
    "U0 = np.squeeze(np.asarray(U[0]))\n",
    "U1 = np.squeeze(np.asarray(U[1]))\n",
    "angle_between(U0, U1)"
   ]
  },
  {
   "cell_type": "code",
   "execution_count": 10,
   "metadata": {},
   "outputs": [
    {
     "name": "stdout",
     "output_type": "stream",
     "text": [
      " 0: 0.00: 1.57: 1.57: 1.57: 1.57: 1.57: 1.57: 1.57: 1.57: 1.57: 1.57: 1.57: \n",
      " 1: 1.57: 0.00: 1.57: 1.57: 1.57: 1.57: 1.57: 1.57: 1.57: 1.57: 1.57: 1.57: \n",
      " 2: 1.57: 1.57: 0.00: 1.57: 1.57: 1.57: 1.57: 1.57: 1.57: 1.57: 1.57: 1.57: \n",
      " 3: 1.57: 1.57: 1.57: 0.00: 1.57: 1.57: 1.57: 1.57: 1.57: 1.57: 1.57: 1.57: \n",
      " 4: 1.57: 1.57: 1.57: 1.57: 0.00: 1.57: 1.57: 1.57: 1.57: 1.57: 1.57: 1.57: \n",
      " 5: 1.57: 1.57: 1.57: 1.57: 1.57: 0.00: 1.57: 1.57: 1.57: 1.57: 1.57: 1.57: \n",
      " 6: 1.57: 1.57: 1.57: 1.57: 1.57: 1.57: 0.00: 1.57: 1.57: 1.57: 1.57: 1.57: \n",
      " 7: 1.57: 1.57: 1.57: 1.57: 1.57: 1.57: 1.57: 0.00: 1.57: 1.57: 1.57: 1.57: \n",
      " 8: 1.57: 1.57: 1.57: 1.57: 1.57: 1.57: 1.57: 1.57: 0.00: 1.57: 1.57: 1.57: \n",
      " 9: 1.57: 1.57: 1.57: 1.57: 1.57: 1.57: 1.57: 1.57: 1.57: 0.00: 1.57: 1.57: \n",
      "10: 1.57: 1.57: 1.57: 1.57: 1.57: 1.57: 1.57: 1.57: 1.57: 1.57: 0.00: 1.57: \n",
      "11: 1.57: 1.57: 1.57: 1.57: 1.57: 1.57: 1.57: 1.57: 1.57: 1.57: 1.57: 0.00: \n"
     ]
    }
   ],
   "source": [
    "for i, UC in enumerate(U):\n",
    "    S = \"\"\n",
    "    S += \"{:2d}: \".format(i)\n",
    "    for U2 in U:\n",
    "        S += \"{:.2f}: \".format(angle_between(np.squeeze(np.asarray(UC)), np.squeeze(np.asarray(U2))))\n",
    "    print(S)"
   ]
  },
  {
   "cell_type": "code",
   "execution_count": 11,
   "metadata": {},
   "outputs": [
    {
     "name": "stdout",
     "output_type": "stream",
     "text": [
      "{{0, 0, 1}, {0, 0, 2}, {0, 1, 3}, {0, 2, 3}, {0, 3, 4}, {2, 2, 4}, {0, 1, 5}, {0, 2, 5}, {0, 5, 6}, {2, 2, 6}, {0, 3, 7}, {0, 5, 7}, {1, 1, 7}, {2, 2, 7}, {0, 2, 8}, {0, 3, 9}, {0, 5, 9}, {0, 8, 9}, {1, 2, 9}, {0, 4, 10}, {0, 6, 10}, {0, 7, 10}, {0, 9, 10}, {1, 3, 10}, {1, 5, 10}, {2, 3, 10}, {2, 5, 10}, {2, 8, 10}, {0, 10, 11}, {1, 7, 11}, {2, 9, 11}, {3, 3, 11}, {5, 5, 11}, {8, 8, 11}}\n"
     ]
    }
   ],
   "source": [
    "HyperEdges = []\n",
    "for i, R in enumerate(Base.Reactions):\n",
    "    HyperEdges.append([R[0], R[1],R[3]])\n",
    "\n",
    "OutString = \"\"\n",
    "OutString += \"{\"\n",
    "for Edge in HyperEdges:\n",
    "    OutString += \"{\"\n",
    "    OutString += str(Edge[0]) + \", \"\n",
    "    OutString += str(Edge[1]) + \", \"\n",
    "    OutString += str(Edge[2])\n",
    "    OutString += \"}, \"\n",
    "OutString = OutString[:-2] + \"}\"\n",
    "print OutString"
   ]
  },
  {
   "cell_type": "code",
   "execution_count": 21,
   "metadata": {},
   "outputs": [],
   "source": [
    "import networkx\n",
    "import halp\n",
    "from halp.directed_hypergraph import DirectedHypergraph\n",
    "from halp.algorithms.directed_paths import b_visit"
   ]
  },
  {
   "cell_type": "code",
   "execution_count": 16,
   "metadata": {},
   "outputs": [],
   "source": [
    "H = DirectedHypergraph()\n",
    "\n",
    "# H.add_node('0', source=True)\n",
    "# H.add_node('11', sink=True)\n",
    "\n",
    "for i, R in enumerate(Base.Reactions):\n",
    "    H.add_hyperedge(set([R[0], R[1]]),set([R[3]]))\n",
    "    \n",
    "# # Add hyperedge from {'s'} to {'x'} with a weight of 1\n",
    "# H.add_hyperedge(set(['s']), set(['x']), weight=1)\n",
    "# # Add hyperedge from {'s'} to {'x', 'y'} with some arbitrary attributes and weight of 2\n",
    "# H.add_hyperedge(set(['s']), set(['x', 'y']), {'color': 'red', 'active': True}, weight=2)\n",
    "# # Add several hyperedges simultaneously, having individual weights\n",
    "# hyperedges = [(['s'], ['z'], {'weight': 2}),\n",
    "#               (['s'], ['t'], {'weight': 100}),\n",
    "#               (['x'], ['s'], {'weight': 1}),\n",
    "#               (['x', 'y', 'z'], ['u', 't'], {'weight': 3}),\n",
    "#               (('t', 'b'), ('a'), {'weight': 1}),\n",
    "#               (set(['a']), set(['u', 't']), {'weight': 1})]\n",
    "# H.add_hyperedges(hyperedges)\n",
    "\n",
    "# # Note: a hyperedge can be added even if it contains nodes that haven't\n",
    "# # previously been put into the graph; the library will automatically add them!"
   ]
  },
  {
   "cell_type": "code",
   "execution_count": 19,
   "metadata": {},
   "outputs": [
    {
     "data": {
      "text/plain": [
       "{0, 1, 2, 3, 4, 5, 6, 7, 8, 9, 10, 11}"
      ]
     },
     "execution_count": 19,
     "metadata": {},
     "output_type": "execute_result"
    }
   ],
   "source": [
    "H.get_node_set()"
   ]
  },
  {
   "cell_type": "code",
   "execution_count": 22,
   "metadata": {},
   "outputs": [
    {
     "data": {
      "text/plain": [
       "({0, 1, 2, 3, 4, 5, 6, 7, 8, 9, 10, 11},\n",
       " {0: None,\n",
       "  1: 'e1',\n",
       "  2: 'e2',\n",
       "  3: 'e3',\n",
       "  4: 'e6',\n",
       "  5: 'e7',\n",
       "  6: 'e10',\n",
       "  7: 'e13',\n",
       "  8: 'e15',\n",
       "  9: 'e19',\n",
       "  10: 'e22',\n",
       "  11: 'e30'},\n",
       " {'e1': 0,\n",
       "  'e10': 2,\n",
       "  'e11': 3,\n",
       "  'e12': 5,\n",
       "  'e13': 1,\n",
       "  'e14': 2,\n",
       "  'e15': 2,\n",
       "  'e16': 3,\n",
       "  'e17': 5,\n",
       "  'e18': 8,\n",
       "  'e19': 2,\n",
       "  'e2': 0,\n",
       "  'e20': 4,\n",
       "  'e21': 6,\n",
       "  'e22': 7,\n",
       "  'e23': 9,\n",
       "  'e24': 3,\n",
       "  'e25': 5,\n",
       "  'e26': 3,\n",
       "  'e27': 5,\n",
       "  'e28': 8,\n",
       "  'e29': 10,\n",
       "  'e3': 1,\n",
       "  'e30': 7,\n",
       "  'e31': 9,\n",
       "  'e32': 3,\n",
       "  'e33': 5,\n",
       "  'e34': 8,\n",
       "  'e4': 2,\n",
       "  'e5': 3,\n",
       "  'e6': 2,\n",
       "  'e7': 1,\n",
       "  'e8': 2,\n",
       "  'e9': 5},\n",
       " {0: 0, 1: 1, 2: 1, 3: 2, 4: 2, 5: 2, 6: 2, 7: 2, 8: 2, 9: 2, 10: 3, 11: 3})"
      ]
     },
     "execution_count": 22,
     "metadata": {},
     "output_type": "execute_result"
    }
   ],
   "source": [
    "b_visit(H,0)"
   ]
  },
  {
   "cell_type": "code",
   "execution_count": null,
   "metadata": {},
   "outputs": [],
   "source": []
  }
 ],
 "metadata": {
  "kernelspec": {
   "display_name": "DataViewer27 Python 2.7.14",
   "language": "python",
   "name": "dataviewer27"
  },
  "language_info": {
   "codemirror_mode": {
    "name": "ipython",
    "version": 2
   },
   "file_extension": ".py",
   "mimetype": "text/x-python",
   "name": "python",
   "nbconvert_exporter": "python",
   "pygments_lexer": "ipython2",
   "version": "2.7.14"
  }
 },
 "nbformat": 4,
 "nbformat_minor": 2
}
